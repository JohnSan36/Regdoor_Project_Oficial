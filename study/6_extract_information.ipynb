{
 "cells": [
  {
   "cell_type": "code",
   "execution_count": 1,
   "metadata": {},
   "outputs": [],
   "source": [
    "texto = \"\"\"Fundada em 1 de abril de 1976 em Cupertino, Califórnia, e incorporada 3 de janeiro de 1977, a empresa foi anteriormente \n",
    "denominada Apple Computer nos seus primeiros 30 anos, mas retirou a palavra \"Computer\" em 9 de janeiro de 2007, para refletir a \n",
    "contínua expansão da empresa no mercado de eletrônicos de consumo, além de seu foco tradicional em computadores pessoais. Em \n",
    "setembro de 2010, a Apple tinha 46,6 mil empregados em tempo integral e 2 800 temporários empregados em tempo integral em todo o \n",
    "mundo e tinha vendas anuais mundiais de 65,23 bilhões de dólares.\"\"\""
   ]
  },
  {
   "cell_type": "code",
   "execution_count": 2,
   "metadata": {},
   "outputs": [
    {
     "name": "stderr",
     "output_type": "stream",
     "text": [
      "c:\\Users\\johns\\OneDrive\\Documentos\\Projetos\\GitHub\\Regdoor_Project\\venv\\Lib\\site-packages\\IPython\\core\\interactiveshell.py:3579: LangChainDeprecationWarning: As of langchain-core 0.3.0, LangChain uses pydantic v2 internally. The langchain.pydantic_v1 module was a compatibility shim for pydantic v1, and should no longer be used. Please update the code to import from Pydantic directly.\n",
      "\n",
      "For example, replace imports like: `from langchain.pydantic_v1 import BaseModel`\n",
      "with: `from pydantic import BaseModel`\n",
      "or the v1 compatibility namespace if you are working in a code base that has not been fully upgraded to pydantic 2 yet. \tfrom pydantic.v1 import BaseModel\n",
      "\n",
      "  exec(code_obj, self.user_global_ns, self.user_ns)\n"
     ]
    },
    {
     "data": {
      "text/plain": [
       "{'name': 'ListaAcontecimentos',\n",
       " 'description': 'Identifica os acontecimentos que ocorreram no texto',\n",
       " 'parameters': {'type': 'object',\n",
       "  'properties': {'acontecimentos': {'description': 'Lista de acontecimentos presentes no texto',\n",
       "    'type': 'array',\n",
       "    'items': {'description': 'Identifica os acontecimentos que ocorreram no texto',\n",
       "     'type': 'object',\n",
       "     'properties': {'data': {'description': 'Data do acontecimento no formato YYYY-MM-DD',\n",
       "       'type': 'string'},\n",
       "      'acontecimento': {'description': 'Acontecimento extraido do texto',\n",
       "       'type': 'string'}},\n",
       "     'required': ['data', 'acontecimento']}}},\n",
       "  'required': ['acontecimentos']}}"
      ]
     },
     "execution_count": 2,
     "metadata": {},
     "output_type": "execute_result"
    }
   ],
   "source": [
    "from langchain.pydantic_v1 import BaseModel, Field\n",
    "from typing import List, Optional\n",
    "from langchain_core.utils.function_calling import convert_to_openai_function\n",
    "\n",
    "class Acontecimento(BaseModel):\n",
    "    \"\"\"Identifica os acontecimentos que ocorreram no texto\"\"\"\n",
    "    data: str = Field(description=\"Data do acontecimento no formato YYYY-MM-DD\")\n",
    "    acontecimento: str = Field(description=\"Acontecimento extraido do texto\")\n",
    "\n",
    "class ListaAcontecimentos(BaseModel):\n",
    "    \"\"\"Identifica os acontecimentos que ocorreram no texto\"\"\"\n",
    "    acontecimentos: List[Acontecimento] = Field(description=\"Lista de acontecimentos presentes no texto\")\n",
    "\n",
    "tool_acontecimentos = convert_to_openai_function(ListaAcontecimentos)\n",
    "tool_acontecimentos"
   ]
  },
  {
   "cell_type": "code",
   "execution_count": 3,
   "metadata": {},
   "outputs": [
    {
     "data": {
      "text/plain": [
       "AIMessage(content='', additional_kwargs={'function_call': {'arguments': '{\"acontecimentos\":[{\"data\":\"1976-04-01\",\"acontecimento\":\"Fundação da empresa em Cupertino, Califórnia.\"},{\"data\":\"1977-01-03\",\"acontecimento\":\"Incorporação da empresa.\"},{\"data\":\"2007-01-09\",\"acontecimento\":\"Retirada da palavra \\'Computer\\' do nome da empresa.\"},{\"data\":\"2010-09\",\"acontecimento\":\"Apple tinha 46,6 mil empregados em tempo integral e 2 800 temporários empregados em tempo integral em todo o mundo, com vendas anuais mundiais de 65,23 bilhões de dólares.\"}]}', 'name': 'ListaAcontecimentos'}, 'refusal': None}, response_metadata={'token_usage': {'completion_tokens': 142, 'prompt_tokens': 319, 'total_tokens': 461, 'completion_tokens_details': {'accepted_prediction_tokens': 0, 'audio_tokens': 0, 'reasoning_tokens': 0, 'rejected_prediction_tokens': 0}, 'prompt_tokens_details': {'audio_tokens': 0, 'cached_tokens': 0}}, 'model_name': 'gpt-3.5-turbo-0125', 'system_fingerprint': None, 'finish_reason': 'stop', 'logprobs': None}, id='run-251f5378-4d43-46cf-a4d9-186814b0898f-0', usage_metadata={'input_tokens': 319, 'output_tokens': 142, 'total_tokens': 461, 'input_token_details': {'audio': 0, 'cache_read': 0}, 'output_token_details': {'audio': 0, 'reasoning': 0}})"
      ]
     },
     "execution_count": 3,
     "metadata": {},
     "output_type": "execute_result"
    }
   ],
   "source": [
    "from langchain.prompts import ChatPromptTemplate\n",
    "from langchain_openai import ChatOpenAI\n",
    "\n",
    "prompt = ChatPromptTemplate.from_messages([\n",
    "    (\"system\", \"Extraia os aontecimentos contidos no texto, elas devem ser extraidas integralmente\"),\n",
    "    (\"user\", \"{input}\")\n",
    "])\n",
    "chat = ChatOpenAI()\n",
    "\n",
    "chain = (prompt | chat.bind(functions=[tool_acontecimentos], function_call={\"name\": \"ListaAcontecimentos\"}))\n",
    "chain.invoke({\"input\": texto})"
   ]
  },
  {
   "cell_type": "markdown",
   "metadata": {},
   "source": [
    "#### Incorporando OutputParser"
   ]
  },
  {
   "cell_type": "code",
   "execution_count": 4,
   "metadata": {},
   "outputs": [
    {
     "data": {
      "text/plain": [
       "{'acontecimentos': [{'data': '1976-04-01',\n",
       "   'acontecimento': 'Fundação da empresa em Cupertino, Califórnia'},\n",
       "  {'data': '1977-01-03', 'acontecimento': 'Incorporação da empresa'},\n",
       "  {'data': '2007-01-09',\n",
       "   'acontecimento': 'Remoção da palavra \"Computer\" do nome da empresa para refletir a expansão no mercado de eletrônicos de consumo'},\n",
       "  {'data': '2010-09',\n",
       "   'acontecimento': 'A Apple tinha 46,6 mil empregados em tempo integral e 2.800 temporários em todo o mundo, com vendas anuais de 65,23 bilhões de dólares'}]}"
      ]
     },
     "execution_count": 4,
     "metadata": {},
     "output_type": "execute_result"
    }
   ],
   "source": [
    "from langchain.output_parsers.openai_functions import JsonOutputFunctionsParser\n",
    "\n",
    "chain = (\n",
    "    prompt | \n",
    "    chat.bind(functions=[tool_acontecimentos], function_call={\"name\": \"ListaAcontecimentos\"}) | \n",
    "    JsonOutputFunctionsParser())\n",
    "\n",
    "chain.invoke({\"input\": texto})"
   ]
  },
  {
   "cell_type": "markdown",
   "metadata": {},
   "source": [
    "#### Incorporando OutputParser com mais formatação"
   ]
  },
  {
   "cell_type": "code",
   "execution_count": 5,
   "metadata": {},
   "outputs": [
    {
     "data": {
      "text/plain": [
       "[{'data': '1976-04-01',\n",
       "  'acontecimento': 'Fundação da empresa em Cupertino, Califórnia.'},\n",
       " {'data': '1977-01-03', 'acontecimento': 'Incorporação da empresa.'},\n",
       " {'data': '2007-01-09',\n",
       "  'acontecimento': \"Retirada da palavra 'Computer' do nome da empresa.\"},\n",
       " {'data': '2010-09',\n",
       "  'acontecimento': 'Apple tinha 46,6 mil empregados em tempo integral e 2 800 temporários empregados em tempo integral em todo o mundo, com vendas anuais mundiais de 65,23 bilhões de dólares.'}]"
      ]
     },
     "execution_count": 5,
     "metadata": {},
     "output_type": "execute_result"
    }
   ],
   "source": [
    "from langchain.output_parsers.openai_functions import JsonKeyOutputFunctionsParser\n",
    "\n",
    "chain = (\n",
    "    prompt | \n",
    "    chat.bind(functions=[tool_acontecimentos], function_call={\"name\": \"ListaAcontecimentos\"}) | \n",
    "    JsonKeyOutputFunctionsParser(key_name=\"acontecimentos\"))\n",
    "\n",
    "chain.invoke({\"input\": texto})"
   ]
  },
  {
   "cell_type": "markdown",
   "metadata": {},
   "source": [
    "## Extraindo informações de uma pagina web"
   ]
  },
  {
   "cell_type": "code",
   "execution_count": 6,
   "metadata": {},
   "outputs": [
    {
     "name": "stderr",
     "output_type": "stream",
     "text": [
      "USER_AGENT environment variable not set, consider setting it to identify your requests.\n"
     ]
    },
    {
     "data": {
      "text/plain": [
       "{'name': 'BlogSite',\n",
       " 'description': 'Lista de blog posts de um site',\n",
       " 'parameters': {'type': 'object',\n",
       "  'properties': {'posts': {'description': 'Lista de posts do blog',\n",
       "    'type': 'array',\n",
       "    'items': {'description': 'Informações sobre um post de blog',\n",
       "     'type': 'object',\n",
       "     'properties': {'titulo': {'description': 'Título do post',\n",
       "       'type': 'string'},\n",
       "      'autor': {'description': 'Autor do post', 'type': 'string'},\n",
       "      'data_publicacao': {'description': 'Data de publicação do post',\n",
       "       'type': 'string'}},\n",
       "     'required': ['titulo', 'autor', 'data_publicacao']}}},\n",
       "  'required': ['posts']}}"
      ]
     },
     "execution_count": 6,
     "metadata": {},
     "output_type": "execute_result"
    }
   ],
   "source": [
    "from langchain_community.document_loaders.web_base import WebBaseLoader\n",
    "from typing import List\n",
    "from langchain_core.utils.function_calling import convert_to_openai_function\n",
    "from dataclasses import field\n",
    "\n",
    "loader = WebBaseLoader(\"https://hub.asimov.academy/blog/\")\n",
    "page = loader.load()\n",
    "\n",
    "class BlogPost(BaseModel):\n",
    "    \"\"\"Informações sobre um post de blog\"\"\"\n",
    "    titulo: str = Field(description=\"Título do post\")\n",
    "    autor: str = Field(description=\"Autor do post\")\n",
    "    data_publicacao: str = Field(description=\"Data de publicação do post\")\n",
    "\n",
    "class BlogSite(BaseModel):\n",
    "    \"\"\"Lista de blog posts de um site\"\"\"\n",
    "    posts: List[BlogPost] = Field(description=\"Lista de posts do blog\")\n",
    "\n",
    "tool_blog = convert_to_openai_function(BlogSite)\n",
    "tool_blog"
   ]
  },
  {
   "cell_type": "code",
   "execution_count": 7,
   "metadata": {},
   "outputs": [
    {
     "data": {
      "text/plain": [
       "[{'titulo': 'Código binário: o que é e como manipular essa linguagem ?',\n",
       "  'autor': 'Rebeca Honório',\n",
       "  'data_publicacao': '5 horas atrás'},\n",
       " {'titulo': 'O que é a Hugging Face e sua importância na inteligência artificial',\n",
       "  'autor': 'Rebeca Honório',\n",
       "  'data_publicacao': '4 dias atrás'},\n",
       " {'titulo': 'Tuplas em Python: o guia completo para iniciantes',\n",
       "  'autor': 'Rebeca Honório',\n",
       "  'data_publicacao': '7 dias atrás'},\n",
       " {'titulo': 'Open Source: o impacto transformador na tecnologia e o papel do Python',\n",
       "  'autor': 'Rebeca Honório',\n",
       "  'data_publicacao': '1 dia atrás'},\n",
       " {'titulo': 'DeepSeek: conheça a IA que está revolucionando o mercado',\n",
       "  'autor': 'Rebeca Honório',\n",
       "  'data_publicacao': '5 dias atrás'},\n",
       " {'titulo': 'Big Data: o que é, como funciona e sua importância no mundo digital',\n",
       "  'autor': 'Rebeca Honório',\n",
       "  'data_publicacao': '5 dias atrás'},\n",
       " {'titulo': 'Plotly: a biblioteca para visualização de dados em Python',\n",
       "  'autor': 'Rebeca Honório',\n",
       "  'data_publicacao': '5 dias atrás'},\n",
       " {'titulo': 'Backtesting: o que é, como funciona e por que é essencial para traders?',\n",
       "  'autor': 'Rebeca Honório',\n",
       "  'data_publicacao': '6 dias atrás'}]"
      ]
     },
     "execution_count": 7,
     "metadata": {},
     "output_type": "execute_result"
    }
   ],
   "source": [
    "prompt = ChatPromptTemplate.from_messages([\n",
    "    (\"system\", \"Extraia da pagina todos os posts do blog com autor e data da publicação\"),\n",
    "    (\"user\", \"{input}\")\n",
    "])\n",
    "\n",
    "chain = (\n",
    "    prompt | \n",
    "    chat.bind(functions=[tool_blog], function_call={\"name\": \"BlogSite\"}) | \n",
    "    JsonKeyOutputFunctionsParser(key_name=\"posts\"))\n",
    "\n",
    "chain.invoke({\"input\": page})"
   ]
  },
  {
   "cell_type": "code",
   "execution_count": null,
   "metadata": {},
   "outputs": [],
   "source": []
  }
 ],
 "metadata": {
  "kernelspec": {
   "display_name": "venv",
   "language": "python",
   "name": "python3"
  },
  "language_info": {
   "codemirror_mode": {
    "name": "ipython",
    "version": 3
   },
   "file_extension": ".py",
   "mimetype": "text/x-python",
   "name": "python",
   "nbconvert_exporter": "python",
   "pygments_lexer": "ipython3",
   "version": "3.12.5"
  }
 },
 "nbformat": 4,
 "nbformat_minor": 2
}
