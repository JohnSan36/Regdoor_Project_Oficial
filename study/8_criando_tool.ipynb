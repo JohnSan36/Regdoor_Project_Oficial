{
 "cells": [
  {
   "cell_type": "markdown",
   "metadata": {},
   "source": [
    "## Criando uma tool de busca de temperatura"
   ]
  },
  {
   "cell_type": "code",
   "execution_count": 2,
   "metadata": {},
   "outputs": [
    {
     "name": "stderr",
     "output_type": "stream",
     "text": [
      "c:\\Users\\johns\\OneDrive\\Documentos\\Projetos\\GitHub\\Regdoor_Project\\venv\\Lib\\site-packages\\IPython\\core\\interactiveshell.py:3579: LangChainDeprecationWarning: As of langchain-core 0.3.0, LangChain uses pydantic v2 internally. The langchain.pydantic_v1 module was a compatibility shim for pydantic v1, and should no longer be used. Please update the code to import from Pydantic directly.\n",
      "\n",
      "For example, replace imports like: `from langchain.pydantic_v1 import BaseModel`\n",
      "with: `from pydantic import BaseModel`\n",
      "or the v1 compatibility namespace if you are working in a code base that has not been fully upgraded to pydantic 2 yet. \tfrom pydantic.v1 import BaseModel\n",
      "\n",
      "  exec(code_obj, self.user_global_ns, self.user_ns)\n"
     ]
    }
   ],
   "source": [
    "from langchain.agents import tool\n",
    "from langchain.pydantic_v1 import BaseModel, Field\n",
    "import requests\n",
    "import datetime\n",
    "\n",
    "\n",
    "class RetornaTempArgs(BaseModel):\n",
    "    latitude: float = Field(\n",
    "        description=\"Latitude da localidade para a qual deseja obter a temperatura\"\n",
    "    )\n",
    "    longitude: float = Field(\n",
    "        description=\"Longitude da localidade para a qual deseja obter a temperatura\"\n",
    "    )\n",
    "\n",
    "@tool(args_schema=RetornaTempArgs)\n",
    "def retorna_temperatura(latitude:float, longitude:float):\n",
    "    \"\"\"Retorna a temperatura atual para um dada localidade\"\"\"\n",
    "\n",
    "    URL = \"https://api.open-meteo.com/v1/forecast\"\n",
    "\n",
    "    params = {\n",
    "        \"latitude\": latitude,\n",
    "        \"longitude\": longitude,\n",
    "        \"hourly\": \"temperature_2m\",\n",
    "        \"forecast_days\": 1\n",
    "    }\n",
    "\n",
    "    resposta = requests.get(URL, params=params)\n",
    "    if resposta.status_code == 200:\n",
    "        resultado = resposta.json()\n",
    "\n",
    "        hora_atual = datetime.datetime.now(datetime.UTC).replace(tzinfo=None)\n",
    "        lista_horas = [datetime.datetime.fromisoformat(temp_str) for temp_str in resultado[\"hourly\"][\"time\"]]\n",
    "        index_prox = min(range(len(lista_horas)), key=lambda i: abs(lista_horas[i] - hora_atual))\n",
    "\n",
    "        temp_atual = resultado[\"hourly\"][\"temperature_2m\"][index_prox]\n",
    "        return temp_atual\n",
    "\n",
    "    else:\n",
    "        raise Exception(f\"Erro ao obter a temperatura na API {URL}: {resposta.status_code}\")"
   ]
  },
  {
   "cell_type": "code",
   "execution_count": 3,
   "metadata": {},
   "outputs": [
    {
     "data": {
      "text/plain": [
       "{'latitude': {'title': 'Latitude',\n",
       "  'description': 'Latitude da localidade para a qual deseja obter a temperatura',\n",
       "  'type': 'number'},\n",
       " 'longitude': {'title': 'Longitude',\n",
       "  'description': 'Longitude da localidade para a qual deseja obter a temperatura',\n",
       "  'type': 'number'}}"
      ]
     },
     "execution_count": 3,
     "metadata": {},
     "output_type": "execute_result"
    }
   ],
   "source": [
    "retorna_temperatura.args_schema.schema()[\"properties\"]"
   ]
  },
  {
   "cell_type": "code",
   "execution_count": 4,
   "metadata": {},
   "outputs": [
    {
     "data": {
      "text/plain": [
       "28.6"
      ]
     },
     "execution_count": 4,
     "metadata": {},
     "output_type": "execute_result"
    }
   ],
   "source": [
    "retorna_temperatura.invoke({\"latitude\":-30, \"longitude\": -50})"
   ]
  },
  {
   "cell_type": "markdown",
   "metadata": {},
   "source": [
    "## Criando tool do wikipedia"
   ]
  },
  {
   "cell_type": "code",
   "execution_count": 5,
   "metadata": {},
   "outputs": [],
   "source": [
    "import wikipedia\n",
    "wikipedia.set_lang(\"pt\")\n",
    "\n",
    "query = \"Isaac Asimov\"\n",
    "\n",
    "@tool\n",
    "def busca_wikipedia(query:str):\n",
    "    \"\"\"Faz busca no wikipedia e retorna resumos de paginas para a query\"\"\"\n",
    "    titulos_paginas = wikipedia.search(query)\n",
    "    resumos = []\n",
    "    for titulo in titulos_paginas[:3]:\n",
    "        try:\n",
    "            wiki_page = wikipedia.page(title=titulo, auto_suggest=True)\n",
    "            resumos.append(f\"Titulo da pagina: {titulo} \\n Resumo: {wiki_page.summary}\")\n",
    "        except:\n",
    "            pass\n",
    "    if not resumos:\n",
    "        return \"Nenhuma informação encontrada\"\n",
    "    else:\n",
    "        return \"\\n\\n\".join(resumos)"
   ]
  },
  {
   "cell_type": "code",
   "execution_count": 6,
   "metadata": {},
   "outputs": [
    {
     "name": "stderr",
     "output_type": "stream",
     "text": [
      "C:\\Users\\johns\\AppData\\Local\\Temp\\ipykernel_1812\\1677674536.py:1: LangChainDeprecationWarning: The method `BaseTool.__call__` was deprecated in langchain-core 0.1.47 and will be removed in 1.0. Use :meth:`~invoke` instead.\n",
      "  busca_wikipedia(\"Newton\")\n"
     ]
    },
    {
     "data": {
      "text/plain": [
       "'Titulo da pagina: Isaac Newton \\n Resumo: Sir Isaac Newton PRS (Woolsthorpe-by-Colsterworth, 25 de dezembro de 1642jul./ 4 de janeiro de 1643greg. – Kensington, 20 de março de 1727jul./ 31 de março de 1727greg) foi um matemático, físico, astrônomo, teólogo e autor inglês (descrito em seus dias como um \"filósofo natural\") amplamente reconhecido como um dos cientistas mais influentes de todos os tempos e como uma figura-chave na Revolução Científica. Seu livro Philosophiæ Naturalis Principia Mathematica (Princípios Matemáticos da Filosofia Natural), publicado pela primeira vez em 1687, lançou as bases da mecânica clássica. Newton também fez contribuições seminais à óptica e compartilha crédito com Gottfried Wilhelm Leibniz pelo desenvolvimento do cálculo infinitesimal.\\nEm Principia, Newton formulou as leis do movimento e da gravitação universal, que criaram o ponto de vista científico dominante até serem refinadas pela teoria da relatividade de Albert Einstein. Usou sua descrição matemática da gravidade para provar as leis de movimento planetário de Kepler, explicar as marés, as trajetórias dos cometas, a precessão dos equinócios e outros fenômenos, erradicando a dúvida sobre a heliocentricidade do Sistema Solar. Demonstrou que o movimento dos objetos na Terra e nos corpos celestes poderia ser explicado pelos mesmos princípios. A inferência de Newton de que a Terra é um esferoide oblato foi posteriormente confirmada pelas medidas geodésicas de Maupertuis, La Condamine e outros, convencendo a maioria dos cientistas europeus da superioridade da mecânica newtoniana em relação aos sistemas anteriores.\\nNewton construiu o primeiro telescópio refletor prático e desenvolveu uma teoria sofisticada da cor com base na observação de que um prisma separa a luz branca nas cores do espectro visível. Seu trabalho sobre a luz foi coletado em seu livro altamente influente Ótica, publicado em 1704. Também formulou uma lei empírica do resfriamento, fez o primeiro cálculo teórico da velocidade do som e introduziu a noção de um fluido newtoniano. Além de seu trabalho sobre cálculo, como matemático, ele contribuiu para o estudo de séries de potências, generalizou o teorema binomial a expoentes não inteiros, desenvolveu um método para aproximar as raízes de uma função e classificou a maioria das curvas do plano cúbico.\\nNewton foi membro do Trinity College e o segundo professor lucasiano na Universidade de Cambridge. Foi um cristão devoto, mas pouco ortodoxo, que rejeitava, em particular, a doutrina da Trindade. Também se recusava a receber ordens sagradas da Igreja da Inglaterra, o que era incomum para um membro da faculdade de Cambridge da época. Além de seu trabalho nas ciências matemáticas, Newton dedicou grande parte de seu tempo ao estudo da alquimia e da cronologia bíblica, mas a maior parte de seu trabalho nessas áreas permaneceu inédita até muito tempo após sua morte. Politicamente e pessoalmente vinculado ao partido Whig, Newton serviu dois breves mandatos como membro do Parlamento da Universidade de Cambridge (1689–1690 e 1701–1702). Foi cavaleiro da rainha Ana em 1705 e passou as últimas três décadas de sua vida em Londres servindo como diretor (1696–1700) e mestre (1700–1727) da Casa da Moeda Real e como presidente da Royal Society (1703–1727).\\n\\nTitulo da pagina: Leis de Newton \\n Resumo: As Leis de Newton são as três leis que possibilitam e constituem a base primária para compreensão dos comportamentos estático e dinâmico dos corpos materiais, em escalas quer celeste quer terrestre. Foram formuladas pelo físico inglês Isaac Newton ainda no século XVII e foram publicadas pela primeira vez em seu livro Philosophiae Naturalis Principia Mathematica. Em essência, as leis estabelecem inicialmente os observadores (referenciais) que podem corretamente usá-las, a fim de explicar a estática e a dinâmica dos corpos em observação (as leis valem em referenciais inerciais); e assumindo estes referenciais por padrão, passam então a mensurar as interações físicas entre dois (ou, via princípio da superposição), entre todos os corpos materiais bem como o resultado destas interações sobre o repouso ou o movimento de tais corpos.\\nA interação entre dois corpos, à parte sua natureza física, é mensurada mediante o conceito de força; e o resultado físico da interação sobre cada corpo é fisicamente interpretado como resultado da ação desta força: em essência, as forças representam interações entre pares de corpos, e são responsáveis pelas acelerações, ou seja, pelas mudanças nas velocidades dos corpos nos quais atuam. Corpos distintos usualmente respondem de formas distintas a uma dada força, e para caracterizar essa resposta define-se para cada corpo uma massa.\\nAs leis de Newton definem-se sobre uma estrutura vetorial, contudo essas leis foram expressas nas mais diferentes formas nos últimos três séculos, incluso via formulações de natureza essencialmente escalar. As formulações de Hamilton e de Lagrange da mecânica clássica; embora em nada acrescentem em termos de fundamentos às leis de Newton, expressam os mesmos princípios de forma muito mais prática a certos problemas, embora representem a primeira vista complicações frente aos problemas mais simples usualmente encontrados em seções que visam a explicar as leis de Newton.\\nNewton não apenas estabeleceu as leis da mecânica como também estabeleceu a lei para uma das interações fundamentais, a lei da Gravitação Universal, e ainda construiu todo o arcabouço matemático necessário — o cálculo diferencial e integral — para que hoje se pudessem projetar e pragmaticamente construir desde edifícios até aviões, desde sistemas mais eficientes de freios automotivos até satélites em órbita (ver: História dos foguetes). O mundo hoje mostra-se inconcebível sem a compreensão que vem à luz via leis de Newton.\\n\\nTitulo da pagina: Olivia Newton-John \\n Resumo: Olivia Newton-John, DBE (Cambridge, 26 de setembro de 1948 – 8 de agosto de 2022) foi uma cantora e atriz britânica e australiana. Com mais de 100 milhões de discos vendidos, John é uma das artistas musicais que mais venderam de todos os tempos, e a que mais vendeu entre os artistas australianos.\\nEm 1978, John estrelou Grease, que foi o filme musical de maior bilheteria na época e cuja trilha sonora continua sendo um dos álbuns mais vendidos de todos os tempos. Ele apresenta dois grandes duetos de sucesso com o co-protagonista John Travolta: \"You\\'re the One That I Want\" — que é um dos singles que mais venderam de todos os tempos — e \"Summer Nights\". Suas canções de assinatura solo incluem \"I Honestly Love You\" (1974), o vencedor do Grammy Awards de Gravação do Ano, e \"Physical\" — o single mais bem classificado na Billboard Hot 100 na década de 1980. \\nOs prêmios e reconhecimentos de John incluem quatro Grammys, um Daytime Emmy Award, nove Billboard Music Awards, seis American Music Awards e uma estrela na Calçada da Fama de Hollywood. Ela colocou quinze singles no top dez da Billboard Hot 100, incluindo cinco que foram número um, e dois álbuns na liderança do Billboard 200: If You Love Me, Let Me Know (1974) e Have You Never Been Mellow (1975). Ela foi nomeada Oficial da Ordem da Austrália em 2006 e Dama Comandante da Ordem do Império Britânico em 2020.\\nJohn, que teve câncer de mama três vezes, foi uma defensora e patrocinadora da pesquisa sobre o câncer de mama. Em 2012, fundou o Olivia Newton-John Cancer & Wellness Centre no Austin Hospital foi inaugurado em sua cidade natal, Melbourne; em 2015, a instalação foi rebatizada de Olivia Newton-John Cancer Wellness & Research Centre. Ela também foi uma ativista por causas ambientais e de direitos dos animais.\\n\\n'"
      ]
     },
     "execution_count": 6,
     "metadata": {},
     "output_type": "execute_result"
    }
   ],
   "source": [
    "busca_wikipedia(\"Newton\")"
   ]
  },
  {
   "cell_type": "code",
   "execution_count": 7,
   "metadata": {},
   "outputs": [
    {
     "data": {
      "text/plain": [
       "'Titulo da pagina: Isaac Asimov \\n Resumo: Isaac Asimov (em russo: Исаак Юдович Озимов; romaniz.: Isaak Yudavich Azimov; Petrovichi, Rússia Soviética, atual Rússia, 2 de janeiro de 1920 — Brooklyn, 6 de abril de 1992) foi um escritor e bioquímico russo-americano, autor de obras de ficção científica e divulgação científica.\\nAsimov é considerado um dos mestres da ficção científica e, junto com Robert A. Heinlein e Arthur C. Clarke, foi considerado um dos \"três grandes\" dessa área da literatura. A obra mais famosa de Asimov é a Série da Fundação, também conhecida como Trilogia da Fundação, que faz parte da série do Império Galáctico e que logo combinou com a Série Robôs. Também escreveu obras de mistério e fantasia, assim como uma grande quantidade de não-ficção. No total, escreveu ou editou mais de 500 volumes, aproximadamente 90 000 cartas ou postais, e tem obras em cada categoria importante do sistema de classificação bibliográfica de Dewey, exceto em filosofia.\\nA maioria de seus livros mais populares sobre ciência, explicam conceitos científicos de uma forma histórica, voltando no tempo o mais longe possível, quando a ciência em questão estava nos primeiros estágios. Ele providência, muitas vezes, datas de nascimento e falecimento dos cientistas que menciona, também etimologias e guias de pronunciação para termos técnicos. Alguns exemplos incluem, \"Guide to Science\", os três volumes de \"Understanding Physics\" e a \"Chronology of Science and Discovery\", e trabalhos sobre Astronomia, Matemática, a Bíblia, escritos de William Shakespeare e Química.\\nEm 1981, um asteroide recebeu seu nome em sua homenagem, o 5020 Asimov.\\n\\nTitulo da pagina: Império Galáctico (série) \\n Resumo: A série do Império Galáctico (também conhecida como Trilogia do Império) é uma sequencia de ficção científica, dos três primeiros romances de Isaac Asimov e posteriormente estendida através de um conto. Todas estão conectadas através de uma linha temporal que permeia seus principais trabalhos tornando cronologicamente as histórias do Império Galáctico prolegômenos do Universo da Fundação.\\nA série do Império Galáctico trata da ascensão do Império e está localizada posteriormente a Série dos Robôs e anteriormente a Série Fundação.\\n\\nTitulo da pagina: Fundação (romance de Asimov) \\n Resumo: Fundação (Foundation) é um romance de ficção científica do escritor americano Isaac Asimov. É o primeiro publicado da Trilogia Fundação (posteriormente expandida para a série Fundação). Fundação é um conjunto de cinco contos inter-relacionados, publicados pela primeira vez como um único livro pela Gnome Press em 1951. Coletivamente, eles contam a história inicial da Fundação, um instituto fundado pelo psico-historiador Hari Seldon para preservar o melhor da civilização galáctica após o colapso do Império Galáctico.'"
      ]
     },
     "execution_count": 7,
     "metadata": {},
     "output_type": "execute_result"
    }
   ],
   "source": [
    "busca_wikipedia.invoke({\"query\": \"Isaac Asimov\"})"
   ]
  },
  {
   "cell_type": "markdown",
   "metadata": {},
   "source": [
    "#### Testando a tool"
   ]
  },
  {
   "cell_type": "code",
   "execution_count": 8,
   "metadata": {},
   "outputs": [
    {
     "data": {
      "text/plain": [
       "AIMessage(content='', additional_kwargs={'function_call': {'arguments': '{\"latitude\":-23.5505,\"longitude\":-46.6333}', 'name': 'retorna_temperatura'}, 'refusal': None}, response_metadata={'token_usage': {'completion_tokens': 28, 'prompt_tokens': 141, 'total_tokens': 169, 'completion_tokens_details': {'accepted_prediction_tokens': 0, 'audio_tokens': 0, 'reasoning_tokens': 0, 'rejected_prediction_tokens': 0}, 'prompt_tokens_details': {'audio_tokens': 0, 'cached_tokens': 0}}, 'model_name': 'gpt-3.5-turbo-0125', 'system_fingerprint': None, 'finish_reason': 'function_call', 'logprobs': None}, id='run-84cecbc8-b74b-4680-a8fc-8f4d15893a23-0', usage_metadata={'input_tokens': 141, 'output_tokens': 28, 'total_tokens': 169, 'input_token_details': {'audio': 0, 'cache_read': 0}, 'output_token_details': {'audio': 0, 'reasoning': 0}})"
      ]
     },
     "execution_count": 8,
     "metadata": {},
     "output_type": "execute_result"
    }
   ],
   "source": [
    "from langchain.prompts import ChatPromptTemplate\n",
    "from langchain_openai import ChatOpenAI\n",
    "from langchain_core.utils.function_calling import convert_to_openai_function\n",
    "\n",
    "prompt = ChatPromptTemplate.from_messages([\n",
    "    (\"system\", \"Você é um assistente rude e grosso chamado Vagão\"),\n",
    "    (\"user\", \"{input}\")\n",
    "])\n",
    "chat = ChatOpenAI()\n",
    "\n",
    "tools = [convert_to_openai_function(busca_wikipedia), convert_to_openai_function(retorna_temperatura)]\n",
    "chain = prompt | chat.bind(functions=tools)\n",
    "chain.invoke({\"input\": \"Qual a temperatura de são paulo\"})"
   ]
  },
  {
   "cell_type": "code",
   "execution_count": null,
   "metadata": {},
   "outputs": [],
   "source": []
  }
 ],
 "metadata": {
  "kernelspec": {
   "display_name": "venv",
   "language": "python",
   "name": "python3"
  },
  "language_info": {
   "codemirror_mode": {
    "name": "ipython",
    "version": 3
   },
   "file_extension": ".py",
   "mimetype": "text/x-python",
   "name": "python",
   "nbconvert_exporter": "python",
   "pygments_lexer": "ipython3",
   "version": "3.12.5"
  }
 },
 "nbformat": 4,
 "nbformat_minor": 2
}
