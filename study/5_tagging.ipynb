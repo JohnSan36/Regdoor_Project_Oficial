{
 "cells": [
  {
   "cell_type": "markdown",
   "metadata": {},
   "source": [
    "### Tagging - Interpretando dados com funções"
   ]
  },
  {
   "cell_type": "code",
   "execution_count": 1,
   "metadata": {},
   "outputs": [
    {
     "name": "stderr",
     "output_type": "stream",
     "text": [
      "c:\\Users\\johns\\OneDrive\\Documentos\\Projetos\\GitHub\\Regdoor_Project\\venv\\Lib\\site-packages\\IPython\\core\\interactiveshell.py:3579: LangChainDeprecationWarning: As of langchain-core 0.3.0, LangChain uses pydantic v2 internally. The langchain.pydantic_v1 module was a compatibility shim for pydantic v1, and should no longer be used. Please update the code to import from Pydantic directly.\n",
      "\n",
      "For example, replace imports like: `from langchain.pydantic_v1 import BaseModel`\n",
      "with: `from pydantic import BaseModel`\n",
      "or the v1 compatibility namespace if you are working in a code base that has not been fully upgraded to pydantic 2 yet. \tfrom pydantic.v1 import BaseModel\n",
      "\n",
      "  exec(code_obj, self.user_global_ns, self.user_ns)\n"
     ]
    },
    {
     "data": {
      "text/plain": [
       "AIMessage(content='', additional_kwargs={'function_call': {'arguments': '{\"sentimento\":\"negativo\",\"lingua\":\"en\"}', 'name': 'Sentimento'}, 'refusal': None}, response_metadata={'token_usage': {'completion_tokens': 23, 'prompt_tokens': 111, 'total_tokens': 134, 'completion_tokens_details': {'accepted_prediction_tokens': 0, 'audio_tokens': 0, 'reasoning_tokens': 0, 'rejected_prediction_tokens': 0}, 'prompt_tokens_details': {'audio_tokens': 0, 'cached_tokens': 0}}, 'model_name': 'gpt-3.5-turbo-0125', 'system_fingerprint': None, 'finish_reason': 'function_call', 'logprobs': None}, id='run-3b46dad2-9ef3-4dfe-ae56-3fb3dca0c729-0', usage_metadata={'input_tokens': 111, 'output_tokens': 23, 'total_tokens': 134, 'input_token_details': {'audio': 0, 'cache_read': 0}, 'output_token_details': {'audio': 0, 'reasoning': 0}})"
      ]
     },
     "execution_count": 1,
     "metadata": {},
     "output_type": "execute_result"
    }
   ],
   "source": [
    "from langchain.pydantic_v1 import BaseModel, Field\n",
    "from langchain_core.utils.function_calling import convert_to_openai_function\n",
    "from langchain_openai import ChatOpenAI\n",
    "from langchain.prompts import ChatPromptTemplate\n",
    "\n",
    "texto = \"Que pasa pendejo\"\n",
    "\n",
    "class Sentimento(BaseModel):\n",
    "    \"\"\"Informa o sentimento e a lingua da frase\"\"\"\n",
    "    sentimento: str = Field(description=\"sentimento da frase. Deve ser 'positivo', 'negativo' ou 'neutro'\")\n",
    "    lingua: str = Field(description=\"lingua ou idioma da frase\")\n",
    "\n",
    "tool_sentimento = convert_to_openai_function(Sentimento)\n",
    "chat = ChatOpenAI(model=\"gpt-3.5-turbo\").bind(functions=[tool_sentimento])\n",
    "\n",
    "prompt = ChatPromptTemplate.from_messages([\n",
    "    (\"system\", \"Pense com cuidado para categorizar o texto conforme a s instruções\"),\n",
    "    (\"user\", \"{input}\")\n",
    "])\n",
    "\n",
    "chain = prompt | chat\n",
    "chain.invoke({\"input\": \"I dont like this shit\"})"
   ]
  },
  {
   "cell_type": "markdown",
   "metadata": {},
   "source": [
    "#### Parseando a saida para obtermos o que queremos"
   ]
  },
  {
   "cell_type": "code",
   "execution_count": 2,
   "metadata": {},
   "outputs": [
    {
     "name": "stderr",
     "output_type": "stream",
     "text": [
      "C:\\Users\\johns\\AppData\\Local\\Temp\\ipykernel_8744\\878602124.py:3: LangChainDeprecationWarning: The method `BaseChatOpenAI.bind_functions` was deprecated in langchain-openai 0.2.1 and will be removed in 1.0.0. Use :meth:`~langchain_openai.chat_models.base.ChatOpenAI.bind_tools` instead.\n",
      "  chain = (prompt | chat.bind_functions([tool_sentimento], function_call={\"name\":\"Sentimento\"}) | JsonOutputFunctionsParser())\n"
     ]
    },
    {
     "data": {
      "text/plain": [
       "{'sentimento': 'neutro', 'lingua': 'português'}"
      ]
     },
     "execution_count": 2,
     "metadata": {},
     "output_type": "execute_result"
    }
   ],
   "source": [
    "from langchain.output_parsers.openai_functions import JsonOutputFunctionsParser\n",
    "\n",
    "chain = (prompt | chat.bind_functions([tool_sentimento], function_call={\"name\":\"Sentimento\"}) | JsonOutputFunctionsParser())\n",
    "chain.invoke({\"input\": \"Qual a temperatura atual em São Paulo?\"})"
   ]
  },
  {
   "cell_type": "markdown",
   "metadata": {},
   "source": [
    "#### Um exemplo mais interessante de classificação"
   ]
  },
  {
   "cell_type": "code",
   "execution_count": 3,
   "metadata": {},
   "outputs": [],
   "source": [
    "emails = [\n",
    "    \"Olá, gostaríamos de solicitar um orçamento para uma campanha de tráfego pago no Instagram e Facebook. Poderiam nos enviar uma proposta com valores e prazos? Aguardo retorno. Obrigado!\",\n",
    "    \"Oi equipe, estamos com algumas dúvidas sobre o planejamento de conteúdo para o próximo mês. Poderiam agendar uma reunião para alinharmos os detalhes? Obrigado!\",\n",
    "    \"Olá, represento a empresa XYZ e estamos em busca de uma agência para produzir vídeos institucionais. Gostaria de saber mais sobre o portfólio de vocês e os valores para esse tipo de serviço. Aguardo retorno.\",\n",
    "    \"🔥 Oferta imperdível! Ganhe 10.000 seguidores em minutos. Aumente sua popularidade agora! Com nossa técnica revolucionária, você pode ganhar 10.000 seguidores reais em minutos. Não perca essa chance única! Clique aqui e aproveite!\",\n",
    "    \"Prezados, segue em anexo o relatório de desempenho das campanhas do último mês. Qualquer dúvida, estou à disposição para esclarecimentos.\",\n",
    "    \"Pessoal, após a última atualização, percebemos que algumas páginas do site estão com erro. Podem verificar isso o mais rápido possível? Precisamos corrigir antes da próxima campanha ir ao ar.\",\n",
    "    \"VOCÊ FOI SELECIONADO! Ganhe um iPhone 15 grátis! Parabéns! Você foi escolhido para ganhar um iPhone 15 de graça. Para receber seu prêmio, basta clicar no link abaixo e preencher o formulário. Mas corra, a oferta expira em poucas horas!\",\n",
    "    \"Oi equipe, gostaria de compartilhar alguns pontos de melhoria que identificamos na última campanha. Podemos marcar uma reunião para discutir e otimizar os próximos passos?\"\n",
    "]"
   ]
  },
  {
   "cell_type": "code",
   "execution_count": 4,
   "metadata": {},
   "outputs": [],
   "source": [
    "from enum import Enum\n",
    "from langchain.pydantic_v1 import BaseModel, Field\n",
    "\n",
    "class SetorEnum(str, Enum):\n",
    "    \"\"\"Enumeração dos setores de atendimento\"\"\"\n",
    "    suporte = \"suporte\"\n",
    "    financeiro = \"financeiro\"\n",
    "    comercial = \"comercial\"\n",
    "    atendimento = \"atendimento\"\n",
    "    vendas = \"vendas\"\n",
    "    span = \"span\"\n",
    "\n",
    "class DirecionaSetorAtendimento(BaseModel):\n",
    "    \"\"\"Informa o setor de atendimento de acordo com o nome do cliente\"\"\"\n",
    "    setor: SetorEnum"
   ]
  },
  {
   "cell_type": "code",
   "execution_count": 5,
   "metadata": {},
   "outputs": [
    {
     "name": "stdout",
     "output_type": "stream",
     "text": [
      "content='' additional_kwargs={'function_call': {'arguments': '{\"setor\":\"vendas\"}', 'name': 'DirecionaSetorAtendimento'}, 'refusal': None} response_metadata={'token_usage': {'completion_tokens': 23, 'prompt_tokens': 150, 'total_tokens': 173, 'completion_tokens_details': {'accepted_prediction_tokens': 0, 'audio_tokens': 0, 'reasoning_tokens': 0, 'rejected_prediction_tokens': 0}, 'prompt_tokens_details': {'audio_tokens': 0, 'cached_tokens': 0}}, 'model_name': 'gpt-3.5-turbo-0125', 'system_fingerprint': None, 'finish_reason': 'function_call', 'logprobs': None} id='run-aac32975-ad97-4892-99e7-e76e6372f941-0' usage_metadata={'input_tokens': 150, 'output_tokens': 23, 'total_tokens': 173, 'input_token_details': {'audio': 0, 'cache_read': 0}, 'output_token_details': {'audio': 0, 'reasoning': 0}}\n",
      "content='' additional_kwargs={'function_call': {'arguments': '{\"setor\":\"atendimento\"}', 'name': 'DirecionaSetorAtendimento'}, 'refusal': None} response_metadata={'token_usage': {'completion_tokens': 23, 'prompt_tokens': 143, 'total_tokens': 166, 'completion_tokens_details': {'accepted_prediction_tokens': 0, 'audio_tokens': 0, 'reasoning_tokens': 0, 'rejected_prediction_tokens': 0}, 'prompt_tokens_details': {'audio_tokens': 0, 'cached_tokens': 0}}, 'model_name': 'gpt-3.5-turbo-0125', 'system_fingerprint': None, 'finish_reason': 'function_call', 'logprobs': None} id='run-14d6d99c-743a-4004-b050-d076b16795d0-0' usage_metadata={'input_tokens': 143, 'output_tokens': 23, 'total_tokens': 166, 'input_token_details': {'audio': 0, 'cache_read': 0}, 'output_token_details': {'audio': 0, 'reasoning': 0}}\n",
      "content='' additional_kwargs={'function_call': {'arguments': '{\"setor\":\"comercial\"}', 'name': 'DirecionaSetorAtendimento'}, 'refusal': None} response_metadata={'token_usage': {'completion_tokens': 23, 'prompt_tokens': 151, 'total_tokens': 174, 'completion_tokens_details': {'accepted_prediction_tokens': 0, 'audio_tokens': 0, 'reasoning_tokens': 0, 'rejected_prediction_tokens': 0}, 'prompt_tokens_details': {'audio_tokens': 0, 'cached_tokens': 0}}, 'model_name': 'gpt-3.5-turbo-0125', 'system_fingerprint': None, 'finish_reason': 'function_call', 'logprobs': None} id='run-1c6b8f27-5794-4dd4-a97e-cc41cfcddc75-0' usage_metadata={'input_tokens': 151, 'output_tokens': 23, 'total_tokens': 174, 'input_token_details': {'audio': 0, 'cache_read': 0}, 'output_token_details': {'audio': 0, 'reasoning': 0}}\n",
      "content='' additional_kwargs={'function_call': {'arguments': '{\"setor\":\"span\"}', 'name': 'DirecionaSetorAtendimento'}, 'refusal': None} response_metadata={'token_usage': {'completion_tokens': 22, 'prompt_tokens': 164, 'total_tokens': 186, 'completion_tokens_details': {'accepted_prediction_tokens': 0, 'audio_tokens': 0, 'reasoning_tokens': 0, 'rejected_prediction_tokens': 0}, 'prompt_tokens_details': {'audio_tokens': 0, 'cached_tokens': 0}}, 'model_name': 'gpt-3.5-turbo-0125', 'system_fingerprint': None, 'finish_reason': 'function_call', 'logprobs': None} id='run-6cdb4ebb-807e-4c99-b129-ad83452910a5-0' usage_metadata={'input_tokens': 164, 'output_tokens': 22, 'total_tokens': 186, 'input_token_details': {'audio': 0, 'cache_read': 0}, 'output_token_details': {'audio': 0, 'reasoning': 0}}\n",
      "content='' additional_kwargs={'function_call': {'arguments': '{\"setor\":\"comercial\"}', 'name': 'DirecionaSetorAtendimento'}, 'refusal': None} response_metadata={'token_usage': {'completion_tokens': 23, 'prompt_tokens': 139, 'total_tokens': 162, 'completion_tokens_details': {'accepted_prediction_tokens': 0, 'audio_tokens': 0, 'reasoning_tokens': 0, 'rejected_prediction_tokens': 0}, 'prompt_tokens_details': {'audio_tokens': 0, 'cached_tokens': 0}}, 'model_name': 'gpt-3.5-turbo-0125', 'system_fingerprint': None, 'finish_reason': 'function_call', 'logprobs': None} id='run-40e3cee0-05b0-454a-a242-1939cf459635-0' usage_metadata={'input_tokens': 139, 'output_tokens': 23, 'total_tokens': 162, 'input_token_details': {'audio': 0, 'cache_read': 0}, 'output_token_details': {'audio': 0, 'reasoning': 0}}\n",
      "content='' additional_kwargs={'function_call': {'arguments': '{\"setor\":\"suporte\"}', 'name': 'DirecionaSetorAtendimento'}, 'refusal': None} response_metadata={'token_usage': {'completion_tokens': 23, 'prompt_tokens': 145, 'total_tokens': 168, 'completion_tokens_details': {'accepted_prediction_tokens': 0, 'audio_tokens': 0, 'reasoning_tokens': 0, 'rejected_prediction_tokens': 0}, 'prompt_tokens_details': {'audio_tokens': 0, 'cached_tokens': 0}}, 'model_name': 'gpt-3.5-turbo-0125', 'system_fingerprint': None, 'finish_reason': 'function_call', 'logprobs': None} id='run-86a38f9e-edfc-4b38-8e7e-d7da196fe18c-0' usage_metadata={'input_tokens': 145, 'output_tokens': 23, 'total_tokens': 168, 'input_token_details': {'audio': 0, 'cache_read': 0}, 'output_token_details': {'audio': 0, 'reasoning': 0}}\n",
      "content='' additional_kwargs={'function_call': {'arguments': '{\"setor\":\"span\"}', 'name': 'DirecionaSetorAtendimento'}, 'refusal': None} response_metadata={'token_usage': {'completion_tokens': 22, 'prompt_tokens': 172, 'total_tokens': 194, 'completion_tokens_details': {'accepted_prediction_tokens': 0, 'audio_tokens': 0, 'reasoning_tokens': 0, 'rejected_prediction_tokens': 0}, 'prompt_tokens_details': {'audio_tokens': 0, 'cached_tokens': 0}}, 'model_name': 'gpt-3.5-turbo-0125', 'system_fingerprint': None, 'finish_reason': 'function_call', 'logprobs': None} id='run-4806740c-860e-4e6e-9d1c-fa79aaae3ff8-0' usage_metadata={'input_tokens': 172, 'output_tokens': 22, 'total_tokens': 194, 'input_token_details': {'audio': 0, 'cache_read': 0}, 'output_token_details': {'audio': 0, 'reasoning': 0}}\n",
      "content='' additional_kwargs={'function_call': {'arguments': '{\"setor\":\"comercial\"}', 'name': 'DirecionaSetorAtendimento'}, 'refusal': None} response_metadata={'token_usage': {'completion_tokens': 23, 'prompt_tokens': 144, 'total_tokens': 167, 'completion_tokens_details': {'accepted_prediction_tokens': 0, 'audio_tokens': 0, 'reasoning_tokens': 0, 'rejected_prediction_tokens': 0}, 'prompt_tokens_details': {'audio_tokens': 0, 'cached_tokens': 0}}, 'model_name': 'gpt-3.5-turbo-0125', 'system_fingerprint': None, 'finish_reason': 'function_call', 'logprobs': None} id='run-6630782a-0f38-4ea0-9793-698caae5c66a-0' usage_metadata={'input_tokens': 144, 'output_tokens': 23, 'total_tokens': 167, 'input_token_details': {'audio': 0, 'cache_read': 0}, 'output_token_details': {'audio': 0, 'reasoning': 0}}\n"
     ]
    }
   ],
   "source": [
    "from langchain_core.utils.function_calling import  convert_to_openai_function\n",
    "\n",
    "tool_direcionamento = convert_to_openai_function(DirecionaSetorAtendimento)\n",
    "\n",
    "for email in emails:\n",
    "    resposta = chat.invoke(email, functions=[tool_direcionamento])\n",
    "    print(resposta)"
   ]
  },
  {
   "cell_type": "code",
   "execution_count": 6,
   "metadata": {},
   "outputs": [
    {
     "name": "stdout",
     "output_type": "stream",
     "text": [
      "Email:  Pessoal, após a última atualização, percebemos que algumas páginas do site estão com erro. Podem verificar isso o mais rápido possível? Precisamos corrigir antes da próxima campanha ir ao ar.\n",
      "Resposta:  {'setor': 'suporte'}\n"
     ]
    }
   ],
   "source": [
    "from langchain_openai import ChatOpenAI\n",
    "from langchain_core.prompts import ChatPromptTemplate\n",
    "from langchain_core.output_parsers.openai_functions import JsonOutputFunctionsParser\n",
    "\n",
    "prompt = ChatPromptTemplate.from_messages([\n",
    "    (\"system\", \"Você é um assistente que categoriza emails.\"),\n",
    "    (\"user\", \"{input}\")\n",
    "])\n",
    "\n",
    "chat = ChatOpenAI(model=\"gpt-3.5-turbo-0125\")\n",
    "\n",
    "chain = prompt | chat.bind(functions=[tool_direcionamento], function_call={\"name\": \"DirecionaSetorAtendimento\"}) | JsonOutputFunctionsParser()\n",
    "\n",
    "email = emails[5]\n",
    "duvidas = chain.invoke({\"input\": email})\n",
    "\n",
    "print(\"Email: \", email)\n",
    "print(\"Resposta: \", duvidas)"
   ]
  },
  {
   "cell_type": "code",
   "execution_count": null,
   "metadata": {},
   "outputs": [],
   "source": []
  }
 ],
 "metadata": {
  "kernelspec": {
   "display_name": "venv",
   "language": "python",
   "name": "python3"
  },
  "language_info": {
   "codemirror_mode": {
    "name": "ipython",
    "version": 3
   },
   "file_extension": ".py",
   "mimetype": "text/x-python",
   "name": "python",
   "nbconvert_exporter": "python",
   "pygments_lexer": "ipython3",
   "version": "3.12.5"
  }
 },
 "nbformat": 4,
 "nbformat_minor": 2
}
