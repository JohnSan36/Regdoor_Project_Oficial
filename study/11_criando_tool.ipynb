{
 "cells": [
  {
   "cell_type": "code",
   "execution_count": 1,
   "metadata": {},
   "outputs": [
    {
     "name": "stderr",
     "output_type": "stream",
     "text": [
      "c:\\Users\\johns\\OneDrive\\Documentos\\Projetos\\GitHub\\Regdoor_Project\\venv\\Lib\\site-packages\\IPython\\core\\interactiveshell.py:3579: LangChainDeprecationWarning: As of langchain-core 0.3.0, LangChain uses pydantic v2 internally. The langchain.pydantic_v1 module was a compatibility shim for pydantic v1, and should no longer be used. Please update the code to import from Pydantic directly.\n",
      "\n",
      "For example, replace imports like: `from langchain.pydantic_v1 import BaseModel`\n",
      "with: `from pydantic import BaseModel`\n",
      "or the v1 compatibility namespace if you are working in a code base that has not been fully upgraded to pydantic 2 yet. \tfrom pydantic.v1 import BaseModel\n",
      "\n",
      "  exec(code_obj, self.user_global_ns, self.user_ns)\n"
     ]
    }
   ],
   "source": [
    "from langchain.agents import tool\n",
    "from langchain.pydantic_v1 import BaseModel, Field\n",
    "import requests\n",
    "import datetime\n",
    "\n",
    "\n",
    "class RetornaTempArgs(BaseModel):\n",
    "    latitude: float = Field(\n",
    "        description=\"Latitude da localidade para a qual deseja obter a temperatura\"\n",
    "    )\n",
    "    longitude: float = Field(\n",
    "        description=\"Longitude da localidade para a qual deseja obter a temperatura\"\n",
    "    )\n",
    "\n",
    "@tool(args_schema=RetornaTempArgs)\n",
    "def retorna_temperatura(latitude:float, longitude:float):\n",
    "    \"\"\"Retorna a temperatura atual para um dada localidade\"\"\"\n",
    "\n",
    "    URL = \"https://api.open-meteo.com/v1/forecast\"\n",
    "\n",
    "    params = {\n",
    "        \"latitude\": latitude,\n",
    "        \"longitude\": longitude,\n",
    "        \"hourly\": \"temperature_2m\",\n",
    "        \"forecast_days\": 1\n",
    "    }\n",
    "\n",
    "    resposta = requests.get(URL, params=params)\n",
    "    if resposta.status_code == 200:\n",
    "        resultado = resposta.json()\n",
    "\n",
    "        hora_atual = datetime.datetime.now(datetime.UTC).replace(tzinfo=None)\n",
    "        lista_horas = [datetime.datetime.fromisoformat(temp_str) for temp_str in resultado[\"hourly\"][\"time\"]]\n",
    "        index_prox = min(range(len(lista_horas)), key=lambda i: abs(lista_horas[i] - hora_atual))\n",
    "\n",
    "        temp_atual = resultado[\"hourly\"][\"temperature_2m\"][index_prox]\n",
    "        return temp_atual\n",
    "\n",
    "    else:\n",
    "        raise Exception(f\"Erro ao obter a temperatura na API {URL}: {resposta.status_code}\")\n",
    "\n",
    "\n",
    "import wikipedia\n",
    "wikipedia.set_lang(\"pt\")\n",
    "\n",
    "query = \"Isaac Asimov\"\n",
    "\n",
    "@tool\n",
    "def busca_wikipedia(query:str):\n",
    "    \"\"\"Faz busca no wikipedia e retorna resumos de paginas para a query\"\"\"\n",
    "    titulos_paginas = wikipedia.search(query)\n",
    "    resumos = []\n",
    "\n",
    "    for titulo in titulos_paginas[:3]:\n",
    "        try:\n",
    "            wiki_page = wikipedia.page(title=titulo, auto_suggest=True)\n",
    "            resumos.append(f\"Titulo da pagina: {titulo} \\n Resumo: {wiki_page.summary}\")\n",
    "        except:\n",
    "            pass\n",
    "    if not resumos:\n",
    "        return \"Nenhuma informação encontrada\"\n",
    "    else:\n",
    "        return \"\\n\\n\".join(resumos)"
   ]
  },
  {
   "cell_type": "code",
   "execution_count": null,
   "metadata": {},
   "outputs": [],
   "source": []
  }
 ],
 "metadata": {
  "kernelspec": {
   "display_name": "venv",
   "language": "python",
   "name": "python3"
  },
  "language_info": {
   "codemirror_mode": {
    "name": "ipython",
    "version": 3
   },
   "file_extension": ".py",
   "mimetype": "text/x-python",
   "name": "python",
   "nbconvert_exporter": "python",
   "pygments_lexer": "ipython3",
   "version": "3.12.5"
  }
 },
 "nbformat": 4,
 "nbformat_minor": 2
}
