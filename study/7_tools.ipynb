{
 "cells": [
  {
   "cell_type": "markdown",
   "metadata": {},
   "source": [
    "## Criando tools com o decorador @tools"
   ]
  },
  {
   "cell_type": "code",
   "execution_count": 49,
   "metadata": {},
   "outputs": [
    {
     "data": {
      "text/plain": [
       "'from langchain.agents import tool\\n\\n@tool\\ndef retorna_temperatura(localidade: str):\\n    \"\"\"Faz busca online de temperatura de uma localidade\"\"\"\\n    return \"25°C\"'"
      ]
     },
     "execution_count": 49,
     "metadata": {},
     "output_type": "execute_result"
    }
   ],
   "source": [
    "'''from langchain.agents import tool\n",
    "\n",
    "@tool\n",
    "def retorna_temperatura(localidade: str):\n",
    "    \"\"\"Faz busca online de temperatura de uma localidade\"\"\"\n",
    "    return \"25°C\"'''"
   ]
  },
  {
   "cell_type": "markdown",
   "metadata": {},
   "source": [
    "#### Criando a extrutura"
   ]
  },
  {
   "cell_type": "code",
   "execution_count": 50,
   "metadata": {},
   "outputs": [
    {
     "data": {
      "text/plain": [
       "{'localidade': {'title': 'Localidade',\n",
       "  'description': 'Localidade para a qual deseja obter a temperatura',\n",
       "  'examples': ['Sao Paulo', 'Porto Alegre'],\n",
       "  'type': 'string'}}"
      ]
     },
     "execution_count": 50,
     "metadata": {},
     "output_type": "execute_result"
    }
   ],
   "source": [
    "from langchain.pydantic_v1 import BaseModel, Field\n",
    "from langchain.agents import tool\n",
    "\n",
    "class RetornaTempArgs(BaseModel):\n",
    "    localidade: str = Field(\n",
    "        description=\"Localidade para a qual deseja obter a temperatura\", \n",
    "        examples=[\"Sao Paulo\", \"Porto Alegre\"])\n",
    "\n",
    "#Buscando a tool\n",
    "@tool(args_schema=RetornaTempArgs)\n",
    "def retorna_temperatura(localidade: str):\n",
    "    \"\"\"Faz busca online de temperatura de uma localidade\"\"\"\n",
    "    return \"25°C\"\n",
    "\n",
    "retorna_temperatura.args_schema.schema()[\"properties\"]"
   ]
  },
  {
   "cell_type": "markdown",
   "metadata": {},
   "source": [
    "#### Depois de passar o decorador \"@\", a função ganha os metodos de invocação de LLM"
   ]
  },
  {
   "cell_type": "code",
   "execution_count": 51,
   "metadata": {},
   "outputs": [
    {
     "data": {
      "text/plain": [
       "'25°C'"
      ]
     },
     "execution_count": 51,
     "metadata": {},
     "output_type": "execute_result"
    }
   ],
   "source": [
    "retorna_temperatura.invoke({\"localidade\": \"Porto Alegre\"})"
   ]
  },
  {
   "cell_type": "markdown",
   "metadata": {},
   "source": [
    "## Criando tools com StructuredTool"
   ]
  },
  {
   "cell_type": "code",
   "execution_count": 1,
   "metadata": {},
   "outputs": [
    {
     "name": "stderr",
     "output_type": "stream",
     "text": [
      "c:\\Users\\johns\\OneDrive\\Documentos\\Projetos\\GitHub\\Regdoor_Project\\venv\\Lib\\site-packages\\IPython\\core\\interactiveshell.py:3579: LangChainDeprecationWarning: As of langchain-core 0.3.0, LangChain uses pydantic v2 internally. The langchain.pydantic_v1 module was a compatibility shim for pydantic v1, and should no longer be used. Please update the code to import from Pydantic directly.\n",
      "\n",
      "For example, replace imports like: `from langchain.pydantic_v1 import BaseModel`\n",
      "with: `from pydantic import BaseModel`\n",
      "or the v1 compatibility namespace if you are working in a code base that has not been fully upgraded to pydantic 2 yet. \tfrom pydantic.v1 import BaseModel\n",
      "\n",
      "  exec(code_obj, self.user_global_ns, self.user_ns)\n"
     ]
    },
    {
     "data": {
      "text/plain": [
       "'Faz busca online de temperatura de uma localidade'"
      ]
     },
     "execution_count": 1,
     "metadata": {},
     "output_type": "execute_result"
    }
   ],
   "source": [
    "from langchain.tools import StructuredTool\n",
    "from langchain.pydantic_v1 import BaseModel, Field\n",
    "\n",
    "class RetornaTempArgs(BaseModel):\n",
    "    localidade: str = Field(\n",
    "        description=\"Localidade para a qual deseja obter a temperatura\", \n",
    "        examples=[\"Sao Paulo\", \"Porto Alegre\"])\n",
    "    \n",
    "def retorna_temperatura(localidade: str):\n",
    "    return \"25°C\"\n",
    "\n",
    "tool_temp = StructuredTool.from_function(\n",
    "    func=retorna_temperatura,\n",
    "    name=\"RetornaTemperatura\",\n",
    "    description=\"Faz busca online de temperatura de uma localidade\",\n",
    "    args_schema=RetornaTempArgs,\n",
    "    return_direct=True\n",
    ")\n",
    "\n",
    "tool_temp.args_schema.schema()[\"properties\"]\n",
    "tool_temp.description"
   ]
  },
  {
   "cell_type": "code",
   "execution_count": null,
   "metadata": {},
   "outputs": [],
   "source": []
  }
 ],
 "metadata": {
  "kernelspec": {
   "display_name": "venv",
   "language": "python",
   "name": "python3"
  },
  "language_info": {
   "codemirror_mode": {
    "name": "ipython",
    "version": 3
   },
   "file_extension": ".py",
   "mimetype": "text/x-python",
   "name": "python",
   "nbconvert_exporter": "python",
   "pygments_lexer": "ipython3",
   "version": "3.12.5"
  }
 },
 "nbformat": 4,
 "nbformat_minor": 2
}
