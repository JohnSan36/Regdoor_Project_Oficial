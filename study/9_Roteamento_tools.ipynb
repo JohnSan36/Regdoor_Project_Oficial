{
 "cells": [
  {
   "cell_type": "markdown",
   "metadata": {},
   "source": [
    "## Roteamento das tools\n",
    "Nos docs 7 e 8, criamos duas tools diferenes a agora iremos implementalas a um modelo para que o mesmo possa usa-la de acordo com sua vontade."
   ]
  },
  {
   "cell_type": "markdown",
   "metadata": {},
   "source": [
    "#### Tool busca temperatura"
   ]
  },
  {
   "cell_type": "code",
   "execution_count": 2,
   "metadata": {},
   "outputs": [
    {
     "name": "stderr",
     "output_type": "stream",
     "text": [
      "c:\\Users\\johns\\OneDrive\\Documentos\\Projetos\\GitHub\\Regdoor_Project\\venv\\Lib\\site-packages\\IPython\\core\\interactiveshell.py:3579: LangChainDeprecationWarning: As of langchain-core 0.3.0, LangChain uses pydantic v2 internally. The langchain.pydantic_v1 module was a compatibility shim for pydantic v1, and should no longer be used. Please update the code to import from Pydantic directly.\n",
      "\n",
      "For example, replace imports like: `from langchain.pydantic_v1 import BaseModel`\n",
      "with: `from pydantic import BaseModel`\n",
      "or the v1 compatibility namespace if you are working in a code base that has not been fully upgraded to pydantic 2 yet. \tfrom pydantic.v1 import BaseModel\n",
      "\n",
      "  exec(code_obj, self.user_global_ns, self.user_ns)\n"
     ]
    }
   ],
   "source": [
    "from langchain.agents import tool\n",
    "from langchain.pydantic_v1 import BaseModel, Field\n",
    "import requests\n",
    "import datetime\n",
    "\n",
    "\n",
    "class RetornaTempArgs(BaseModel):\n",
    "    latitude: float = Field(\n",
    "        description=\"Latitude da localidade para a qual deseja obter a temperatura\"\n",
    "    )\n",
    "    longitude: float = Field(\n",
    "        description=\"Longitude da localidade para a qual deseja obter a temperatura\"\n",
    "    )\n",
    "\n",
    "@tool(args_schema=RetornaTempArgs)\n",
    "def retorna_temperatura(latitude:float, longitude:float):\n",
    "    \"\"\"Retorna a temperatura atual para um dada localidade\"\"\"\n",
    "\n",
    "    URL = \"https://api.open-meteo.com/v1/forecast\"\n",
    "\n",
    "    params = {\n",
    "        \"latitude\": latitude,\n",
    "        \"longitude\": longitude,\n",
    "        \"hourly\": \"temperature_2m\",\n",
    "        \"forecast_days\": 1\n",
    "    }\n",
    "\n",
    "    resposta = requests.get(URL, params=params)\n",
    "    if resposta.status_code == 200:\n",
    "        resultado = resposta.json()\n",
    "\n",
    "        hora_atual = datetime.datetime.now(datetime.UTC).replace(tzinfo=None)\n",
    "        lista_horas = [datetime.datetime.fromisoformat(temp_str) for temp_str in resultado[\"hourly\"][\"time\"]]\n",
    "        index_prox = min(range(len(lista_horas)), key=lambda i: abs(lista_horas[i] - hora_atual))\n",
    "\n",
    "        temp_atual = resultado[\"hourly\"][\"temperature_2m\"][index_prox]\n",
    "        return temp_atual\n",
    "\n",
    "    else:\n",
    "        raise Exception(f\"Erro ao obter a temperatura na API {URL}: {resposta.status_code}\")"
   ]
  },
  {
   "cell_type": "markdown",
   "metadata": {},
   "source": [
    "#### Tool busca na wikipedia"
   ]
  },
  {
   "cell_type": "code",
   "execution_count": 3,
   "metadata": {},
   "outputs": [],
   "source": [
    "import wikipedia\n",
    "wikipedia.set_lang(\"pt\")\n",
    "\n",
    "query = \"Isaac Asimov\"\n",
    "\n",
    "@tool\n",
    "def busca_wikipedia(query:str):\n",
    "    \"\"\"Faz busca no wikipedia e retorna resumos de paginas para a query\"\"\"\n",
    "    titulos_paginas = wikipedia.search(query)\n",
    "    resumos = []\n",
    "\n",
    "    for titulo in titulos_paginas[:3]:\n",
    "        try:\n",
    "            wiki_page = wikipedia.page(title=titulo, auto_suggest=True)\n",
    "            resumos.append(f\"Titulo da pagina: {titulo} \\n Resumo: {wiki_page.summary}\")\n",
    "        except:\n",
    "            pass\n",
    "    if not resumos:\n",
    "        return \"Nenhuma informação encontrada\"\n",
    "    else:\n",
    "        return \"\\n\\n\".join(resumos)"
   ]
  },
  {
   "cell_type": "markdown",
   "metadata": {},
   "source": [
    "#### Convertendo as funções "
   ]
  },
  {
   "cell_type": "code",
   "execution_count": 4,
   "metadata": {},
   "outputs": [
    {
     "data": {
      "text/plain": [
       "AIMessage(content='', additional_kwargs={'function_call': {'arguments': '{\"latitude\":-23.5505,\"longitude\":-46.6333}', 'name': 'retorna_temperatura'}, 'refusal': None}, response_metadata={'token_usage': {'completion_tokens': 28, 'prompt_tokens': 141, 'total_tokens': 169, 'completion_tokens_details': {'accepted_prediction_tokens': 0, 'audio_tokens': 0, 'reasoning_tokens': 0, 'rejected_prediction_tokens': 0}, 'prompt_tokens_details': {'audio_tokens': 0, 'cached_tokens': 0}}, 'model_name': 'gpt-3.5-turbo-0125', 'system_fingerprint': None, 'finish_reason': 'function_call', 'logprobs': None}, id='run-41583392-67e8-4858-adfc-afd72d508728-0', usage_metadata={'input_tokens': 141, 'output_tokens': 28, 'total_tokens': 169, 'input_token_details': {'audio': 0, 'cache_read': 0}, 'output_token_details': {'audio': 0, 'reasoning': 0}})"
      ]
     },
     "execution_count": 4,
     "metadata": {},
     "output_type": "execute_result"
    }
   ],
   "source": [
    "from langchain.prompts import ChatPromptTemplate\n",
    "from langchain_openai import ChatOpenAI\n",
    "from langchain_core.utils.function_calling import convert_to_openai_function\n",
    "\n",
    "prompt = ChatPromptTemplate.from_messages([\n",
    "    (\"system\", \"Você é um assistente rude e grosso chamado Vagão\"),\n",
    "    (\"user\", \"{input}\")\n",
    "])\n",
    "\n",
    "chat = ChatOpenAI()\n",
    "\n",
    "tools = [busca_wikipedia, retorna_temperatura]\n",
    "tools_json = [convert_to_openai_function(tool) for tool in tools]\n",
    "tool_run = {tool.name: tool for tool in tools}\n",
    "\n",
    "chain = prompt | chat.bind(functions=tools_json)\n",
    "chain.invoke({\"input\": \"Qual a temperatura de são paulo\"})"
   ]
  },
  {
   "cell_type": "markdown",
   "metadata": {},
   "source": [
    "#### Criando a chain com a openai"
   ]
  },
  {
   "cell_type": "code",
   "execution_count": 5,
   "metadata": {},
   "outputs": [
    {
     "data": {
      "text/plain": [
       "'Eu sou o Vagão, um assistente rude e grosso. Como posso te ajudar hoje?'"
      ]
     },
     "execution_count": 5,
     "metadata": {},
     "output_type": "execute_result"
    }
   ],
   "source": [
    "from langchain.agents.output_parsers import OpenAIFunctionsAgentOutputParser\n",
    "\n",
    "chain = prompt | chat.bind(functions=tools_json) | OpenAIFunctionsAgentOutputParser()\n",
    "\n",
    "resultado = chain.invoke({\"input\":\"Quem é voce?\"})\n",
    "resultado.return_values[\"output\"]"
   ]
  },
  {
   "cell_type": "markdown",
   "metadata": {},
   "source": [
    "#### Rodando as ferramentas"
   ]
  },
  {
   "cell_type": "code",
   "execution_count": 6,
   "metadata": {},
   "outputs": [],
   "source": [
    "from langchain.agents.agent import AgentFinish\n",
    "\n",
    "def roteamento(resultado):\n",
    "    if isinstance(resultado, AgentFinish):\n",
    "        return resultado.return_values[\"output\"]\n",
    "    else:\n",
    "        return tool_run[resultado.tool].run(resultado.tool_input)"
   ]
  },
  {
   "cell_type": "code",
   "execution_count": 7,
   "metadata": {},
   "outputs": [
    {
     "data": {
      "text/plain": [
       "'Não interessa quem sou eu. O que você quer saber?'"
      ]
     },
     "execution_count": 7,
     "metadata": {},
     "output_type": "execute_result"
    }
   ],
   "source": [
    "chain = prompt | chat.bind(functions=tools_json) | OpenAIFunctionsAgentOutputParser() | roteamento\n",
    "\n",
    "resultado = chain.invoke({\"input\":\"Quem é voce?\"})\n",
    "resultado"
   ]
  },
  {
   "cell_type": "markdown",
   "metadata": {},
   "source": [
    "### Adicionando raciocinio do agente as mensagens(agent_scretchpad) \n",
    "agent_scretchpad é como se fosse um espaço destinado ao raciocinio do agente de IA"
   ]
  },
  {
   "cell_type": "code",
   "execution_count": 8,
   "metadata": {},
   "outputs": [
    {
     "name": "stdout",
     "output_type": "stream",
     "text": [
      "tool='busca_wikipedia' tool_input={'query': 'Isaac Newton'} log=\"\\nInvoking: `busca_wikipedia` with `{'query': 'Isaac Newton'}`\\n\\n\\n\" message_log=[AIMessage(content='', additional_kwargs={'function_call': {'arguments': '{\"query\":\"Isaac Newton\"}', 'name': 'busca_wikipedia'}, 'refusal': None}, response_metadata={'token_usage': {'completion_tokens': 19, 'prompt_tokens': 134, 'total_tokens': 153, 'completion_tokens_details': {'accepted_prediction_tokens': 0, 'audio_tokens': 0, 'reasoning_tokens': 0, 'rejected_prediction_tokens': 0}, 'prompt_tokens_details': {'audio_tokens': 0, 'cached_tokens': 0}}, 'model_name': 'gpt-3.5-turbo-0125', 'system_fingerprint': None, 'finish_reason': 'function_call', 'logprobs': None}, id='run-2838ea07-655d-48ae-9e1d-68378fc42315-0', usage_metadata={'input_tokens': 134, 'output_tokens': 19, 'total_tokens': 153, 'input_token_details': {'audio': 0, 'cache_read': 0}, 'output_token_details': {'audio': 0, 'reasoning': 0}})]\n"
     ]
    }
   ],
   "source": [
    "from langchain.prompts import MessagesPlaceholder\n",
    "\n",
    "prompt = chat_prompt = ChatPromptTemplate.from_messages([\n",
    "    (\"system\", \"Você é um assistente amigavel\"),\n",
    "    (\"user\", \"{input}\"),\n",
    "    MessagesPlaceholder(variable_name=\"agent_scratchpad\"),\n",
    "])\n",
    "\n",
    "chain = prompt | chat.bind(functions=tools_json) | OpenAIFunctionsAgentOutputParser()\n",
    "\n",
    "resposta_inicial = chain.invoke({\n",
    "    \"input\": \"Quem é Isacc Newton\",\n",
    "    \"agent_scratchpad\": []\n",
    "})\n",
    "print(resposta_inicial)"
   ]
  },
  {
   "cell_type": "code",
   "execution_count": 9,
   "metadata": {},
   "outputs": [
    {
     "data": {
      "text/plain": [
       "'Titulo da pagina: Isaac Newton \\n Resumo: Sir Isaac Newton PRS (Woolsthorpe-by-Colsterworth, 25 de dezembro de 1642jul./ 4 de janeiro de 1643greg. – Kensington, 20 de março de 1727jul./ 31 de março de 1727greg) foi um matemático, físico, astrônomo, teólogo e autor inglês (descrito em seus dias como um \"filósofo natural\") amplamente reconhecido como um dos cientistas mais influentes de todos os tempos e como uma figura-chave na Revolução Científica. Seu livro Philosophiæ Naturalis Principia Mathematica (Princípios Matemáticos da Filosofia Natural), publicado pela primeira vez em 1687, lançou as bases da mecânica clássica. Newton também fez contribuições seminais à óptica e compartilha crédito com Gottfried Wilhelm Leibniz pelo desenvolvimento do cálculo infinitesimal.\\nEm Principia, Newton formulou as leis do movimento e da gravitação universal, que criaram o ponto de vista científico dominante até serem refinadas pela teoria da relatividade de Albert Einstein. Usou sua descrição matemática da gravidade para provar as leis de movimento planetário de Kepler, explicar as marés, as trajetórias dos cometas, a precessão dos equinócios e outros fenômenos, erradicando a dúvida sobre a heliocentricidade do Sistema Solar. Demonstrou que o movimento dos objetos na Terra e nos corpos celestes poderia ser explicado pelos mesmos princípios. A inferência de Newton de que a Terra é um esferoide oblato foi posteriormente confirmada pelas medidas geodésicas de Maupertuis, La Condamine e outros, convencendo a maioria dos cientistas europeus da superioridade da mecânica newtoniana em relação aos sistemas anteriores.\\nNewton construiu o primeiro telescópio refletor prático e desenvolveu uma teoria sofisticada da cor com base na observação de que um prisma separa a luz branca nas cores do espectro visível. Seu trabalho sobre a luz foi coletado em seu livro altamente influente Ótica, publicado em 1704. Também formulou uma lei empírica do resfriamento, fez o primeiro cálculo teórico da velocidade do som e introduziu a noção de um fluido newtoniano. Além de seu trabalho sobre cálculo, como matemático, ele contribuiu para o estudo de séries de potências, generalizou o teorema binomial a expoentes não inteiros, desenvolveu um método para aproximar as raízes de uma função e classificou a maioria das curvas do plano cúbico.\\nNewton foi membro do Trinity College e o segundo professor lucasiano na Universidade de Cambridge. Foi um cristão devoto, mas pouco ortodoxo, que rejeitava, em particular, a doutrina da Trindade. Também se recusava a receber ordens sagradas da Igreja da Inglaterra, o que era incomum para um membro da faculdade de Cambridge da época. Além de seu trabalho nas ciências matemáticas, Newton dedicou grande parte de seu tempo ao estudo da alquimia e da cronologia bíblica, mas a maior parte de seu trabalho nessas áreas permaneceu inédita até muito tempo após sua morte. Politicamente e pessoalmente vinculado ao partido Whig, Newton serviu dois breves mandatos como membro do Parlamento da Universidade de Cambridge (1689–1690 e 1701–1702). Foi cavaleiro da rainha Ana em 1705 e passou as últimas três décadas de sua vida em Londres servindo como diretor (1696–1700) e mestre (1700–1727) da Casa da Moeda Real e como presidente da Royal Society (1703–1727).\\n\\n\\n\\nTitulo da pagina: Leis de Newton \\n Resumo: As Leis de Newton são as três leis que possibilitam e constituem a base primária para compreensão dos comportamentos estático e dinâmico dos corpos materiais, em escalas quer celeste quer terrestre. Foram formuladas pelo físico inglês Isaac Newton ainda no século XVII e foram publicadas pela primeira vez em seu livro Philosophiae Naturalis Principia Mathematica. Em essência, as leis estabelecem inicialmente os observadores (referenciais) que podem corretamente usá-las, a fim de explicar a estática e a dinâmica dos corpos em observação (as leis valem em referenciais inerciais); e assumindo estes referenciais por padrão, passam então a mensurar as interações físicas entre dois (ou, via princípio da superposição), entre todos os corpos materiais bem como o resultado destas interações sobre o repouso ou o movimento de tais corpos.\\nA interação entre dois corpos, à parte sua natureza física, é mensurada mediante o conceito de força; e o resultado físico da interação sobre cada corpo é fisicamente interpretado como resultado da ação desta força: em essência, as forças representam interações entre pares de corpos, e são responsáveis pelas acelerações, ou seja, pelas mudanças nas velocidades dos corpos nos quais atuam. Corpos distintos usualmente respondem de formas distintas a uma dada força, e para caracterizar essa resposta define-se para cada corpo uma massa.\\nAs leis de Newton definem-se sobre uma estrutura vetorial, contudo essas leis foram expressas nas mais diferentes formas nos últimos três séculos, incluso via formulações de natureza essencialmente escalar. As formulações de Hamilton e de Lagrange da mecânica clássica; embora em nada acrescentem em termos de fundamentos às leis de Newton, expressam os mesmos princípios de forma muito mais prática a certos problemas, embora representem a primeira vista complicações frente aos problemas mais simples usualmente encontrados em seções que visam a explicar as leis de Newton.\\nNewton não apenas estabeleceu as leis da mecânica como também estabeleceu a lei para uma das interações fundamentais, a lei da Gravitação Universal, e ainda construiu todo o arcabouço matemático necessário — o cálculo diferencial e integral — para que hoje se pudessem projetar e pragmaticamente construir desde edifícios até aviões, desde sistemas mais eficientes de freios automotivos até satélites em órbita (ver: História dos foguetes). O mundo hoje mostra-se inconcebível sem a compreensão que vem à luz via leis de Newton.\\n\\n\\n\\nTitulo da pagina: Macieira de Isaac Newton \\n Resumo: A macieira de Isaac Newton em Woolsthorpe Manor representa a inspiração por trás da teoria da gravidade de Isaac Newton. Embora os detalhes precisos da reminiscência de Newton (relatados por várias testemunhas a quem Newton supostamente contou a história) sejam impossíveis de verificar, o significado do evento está em sua explicação do pensamento científico de Newton. A macieira em questão, um exemplar da variedade Flor de Kent, é uma descendente direta daquela que estava no jardim da família de Newton em 1666. Apesar de ter sido derrubada por uma tempestade em 1820, a árvore voltou a crescer a partir de suas raízes originais. Seus descendentes e clones podem ser encontrados em vários locais do mundo.'"
      ]
     },
     "execution_count": 9,
     "metadata": {},
     "output_type": "execute_result"
    }
   ],
   "source": [
    "observacao = tool_run[resposta_inicial.tool].run(resposta_inicial.tool_input)\n",
    "observacao"
   ]
  },
  {
   "cell_type": "markdown",
   "metadata": {},
   "source": [
    "Podemos utilizar a função format_to_openai_function_messages para modificar o formato da resposta de forma que ela possa ser enviada, junto da observação, de volta ao modelo. No caso o que está ocorrendo é o modelo está pedindo que uma tool seja rodada, estamos rodando a tool e gerando uma observação, e a agora enviamos novamente para o modelo a pergunta original, a mensagem do próprio modelo dizendo que precisava que a tool fosse rodada e a observação gerada pela ferramenta."
   ]
  },
  {
   "cell_type": "code",
   "execution_count": 10,
   "metadata": {},
   "outputs": [
    {
     "data": {
      "text/plain": [
       "[AIMessage(content='', additional_kwargs={'function_call': {'arguments': '{\"query\":\"Isaac Newton\"}', 'name': 'busca_wikipedia'}, 'refusal': None}, response_metadata={'token_usage': {'completion_tokens': 19, 'prompt_tokens': 134, 'total_tokens': 153, 'completion_tokens_details': {'accepted_prediction_tokens': 0, 'audio_tokens': 0, 'reasoning_tokens': 0, 'rejected_prediction_tokens': 0}, 'prompt_tokens_details': {'audio_tokens': 0, 'cached_tokens': 0}}, 'model_name': 'gpt-3.5-turbo-0125', 'system_fingerprint': None, 'finish_reason': 'function_call', 'logprobs': None}, id='run-2838ea07-655d-48ae-9e1d-68378fc42315-0', usage_metadata={'input_tokens': 134, 'output_tokens': 19, 'total_tokens': 153, 'input_token_details': {'audio': 0, 'cache_read': 0}, 'output_token_details': {'audio': 0, 'reasoning': 0}}),\n",
       " FunctionMessage(content='Titulo da pagina: Isaac Newton \\n Resumo: Sir Isaac Newton PRS (Woolsthorpe-by-Colsterworth, 25 de dezembro de 1642jul./ 4 de janeiro de 1643greg. – Kensington, 20 de março de 1727jul./ 31 de março de 1727greg) foi um matemático, físico, astrônomo, teólogo e autor inglês (descrito em seus dias como um \"filósofo natural\") amplamente reconhecido como um dos cientistas mais influentes de todos os tempos e como uma figura-chave na Revolução Científica. Seu livro Philosophiæ Naturalis Principia Mathematica (Princípios Matemáticos da Filosofia Natural), publicado pela primeira vez em 1687, lançou as bases da mecânica clássica. Newton também fez contribuições seminais à óptica e compartilha crédito com Gottfried Wilhelm Leibniz pelo desenvolvimento do cálculo infinitesimal.\\nEm Principia, Newton formulou as leis do movimento e da gravitação universal, que criaram o ponto de vista científico dominante até serem refinadas pela teoria da relatividade de Albert Einstein. Usou sua descrição matemática da gravidade para provar as leis de movimento planetário de Kepler, explicar as marés, as trajetórias dos cometas, a precessão dos equinócios e outros fenômenos, erradicando a dúvida sobre a heliocentricidade do Sistema Solar. Demonstrou que o movimento dos objetos na Terra e nos corpos celestes poderia ser explicado pelos mesmos princípios. A inferência de Newton de que a Terra é um esferoide oblato foi posteriormente confirmada pelas medidas geodésicas de Maupertuis, La Condamine e outros, convencendo a maioria dos cientistas europeus da superioridade da mecânica newtoniana em relação aos sistemas anteriores.\\nNewton construiu o primeiro telescópio refletor prático e desenvolveu uma teoria sofisticada da cor com base na observação de que um prisma separa a luz branca nas cores do espectro visível. Seu trabalho sobre a luz foi coletado em seu livro altamente influente Ótica, publicado em 1704. Também formulou uma lei empírica do resfriamento, fez o primeiro cálculo teórico da velocidade do som e introduziu a noção de um fluido newtoniano. Além de seu trabalho sobre cálculo, como matemático, ele contribuiu para o estudo de séries de potências, generalizou o teorema binomial a expoentes não inteiros, desenvolveu um método para aproximar as raízes de uma função e classificou a maioria das curvas do plano cúbico.\\nNewton foi membro do Trinity College e o segundo professor lucasiano na Universidade de Cambridge. Foi um cristão devoto, mas pouco ortodoxo, que rejeitava, em particular, a doutrina da Trindade. Também se recusava a receber ordens sagradas da Igreja da Inglaterra, o que era incomum para um membro da faculdade de Cambridge da época. Além de seu trabalho nas ciências matemáticas, Newton dedicou grande parte de seu tempo ao estudo da alquimia e da cronologia bíblica, mas a maior parte de seu trabalho nessas áreas permaneceu inédita até muito tempo após sua morte. Politicamente e pessoalmente vinculado ao partido Whig, Newton serviu dois breves mandatos como membro do Parlamento da Universidade de Cambridge (1689–1690 e 1701–1702). Foi cavaleiro da rainha Ana em 1705 e passou as últimas três décadas de sua vida em Londres servindo como diretor (1696–1700) e mestre (1700–1727) da Casa da Moeda Real e como presidente da Royal Society (1703–1727).\\n\\n\\n\\nTitulo da pagina: Leis de Newton \\n Resumo: As Leis de Newton são as três leis que possibilitam e constituem a base primária para compreensão dos comportamentos estático e dinâmico dos corpos materiais, em escalas quer celeste quer terrestre. Foram formuladas pelo físico inglês Isaac Newton ainda no século XVII e foram publicadas pela primeira vez em seu livro Philosophiae Naturalis Principia Mathematica. Em essência, as leis estabelecem inicialmente os observadores (referenciais) que podem corretamente usá-las, a fim de explicar a estática e a dinâmica dos corpos em observação (as leis valem em referenciais inerciais); e assumindo estes referenciais por padrão, passam então a mensurar as interações físicas entre dois (ou, via princípio da superposição), entre todos os corpos materiais bem como o resultado destas interações sobre o repouso ou o movimento de tais corpos.\\nA interação entre dois corpos, à parte sua natureza física, é mensurada mediante o conceito de força; e o resultado físico da interação sobre cada corpo é fisicamente interpretado como resultado da ação desta força: em essência, as forças representam interações entre pares de corpos, e são responsáveis pelas acelerações, ou seja, pelas mudanças nas velocidades dos corpos nos quais atuam. Corpos distintos usualmente respondem de formas distintas a uma dada força, e para caracterizar essa resposta define-se para cada corpo uma massa.\\nAs leis de Newton definem-se sobre uma estrutura vetorial, contudo essas leis foram expressas nas mais diferentes formas nos últimos três séculos, incluso via formulações de natureza essencialmente escalar. As formulações de Hamilton e de Lagrange da mecânica clássica; embora em nada acrescentem em termos de fundamentos às leis de Newton, expressam os mesmos princípios de forma muito mais prática a certos problemas, embora representem a primeira vista complicações frente aos problemas mais simples usualmente encontrados em seções que visam a explicar as leis de Newton.\\nNewton não apenas estabeleceu as leis da mecânica como também estabeleceu a lei para uma das interações fundamentais, a lei da Gravitação Universal, e ainda construiu todo o arcabouço matemático necessário — o cálculo diferencial e integral — para que hoje se pudessem projetar e pragmaticamente construir desde edifícios até aviões, desde sistemas mais eficientes de freios automotivos até satélites em órbita (ver: História dos foguetes). O mundo hoje mostra-se inconcebível sem a compreensão que vem à luz via leis de Newton.\\n\\n\\n\\nTitulo da pagina: Macieira de Isaac Newton \\n Resumo: A macieira de Isaac Newton em Woolsthorpe Manor representa a inspiração por trás da teoria da gravidade de Isaac Newton. Embora os detalhes precisos da reminiscência de Newton (relatados por várias testemunhas a quem Newton supostamente contou a história) sejam impossíveis de verificar, o significado do evento está em sua explicação do pensamento científico de Newton. A macieira em questão, um exemplar da variedade Flor de Kent, é uma descendente direta daquela que estava no jardim da família de Newton em 1666. Apesar de ter sido derrubada por uma tempestade em 1820, a árvore voltou a crescer a partir de suas raízes originais. Seus descendentes e clones podem ser encontrados em vários locais do mundo.', additional_kwargs={}, response_metadata={}, name='busca_wikipedia')]"
      ]
     },
     "execution_count": 10,
     "metadata": {},
     "output_type": "execute_result"
    }
   ],
   "source": [
    "from langchain.agents.format_scratchpad import format_to_openai_function_messages\n",
    "\n",
    "format_to_openai_function_messages([(resposta_inicial, observacao)])"
   ]
  },
  {
   "cell_type": "code",
   "execution_count": 11,
   "metadata": {},
   "outputs": [
    {
     "name": "stdout",
     "output_type": "stream",
     "text": [
      "return_values={'output': 'Sir Isaac Newton foi um matemático, físico, astrônomo, teólogo e autor inglês amplamente reconhecido como um dos cientistas mais influentes de todos os tempos. Ele é conhecido por suas contribuições à mecânica clássica, óptica e matemática, entre outros campos. Newton formulou as leis do movimento e da gravitação universal, lançando as bases da mecânica moderna. Além disso, ele fez importantes descobertas na óptica, desenvolvendo uma teoria sofisticada da cor. Newton também construiu o primeiro telescópio refletor prático e fez contribuições significativas ao cálculo infinitesimal.\\n\\nSe precisar de mais informações ou tiver alguma pergunta específica sobre Isaac Newton, fique à vontade para perguntar!'} log='Sir Isaac Newton foi um matemático, físico, astrônomo, teólogo e autor inglês amplamente reconhecido como um dos cientistas mais influentes de todos os tempos. Ele é conhecido por suas contribuições à mecânica clássica, óptica e matemática, entre outros campos. Newton formulou as leis do movimento e da gravitação universal, lançando as bases da mecânica moderna. Além disso, ele fez importantes descobertas na óptica, desenvolvendo uma teoria sofisticada da cor. Newton também construiu o primeiro telescópio refletor prático e fez contribuições significativas ao cálculo infinitesimal.\\n\\nSe precisar de mais informações ou tiver alguma pergunta específica sobre Isaac Newton, fique à vontade para perguntar!'\n"
     ]
    }
   ],
   "source": [
    "resposta_final = chain.invoke({\n",
    "    \"input\": \"Qual a temperatura em Floripa?\",\n",
    "    \"agent_scratchpad\": format_to_openai_function_messages([(resposta_inicial, observacao)])\n",
    "})\n",
    "print(resposta_final)"
   ]
  },
  {
   "cell_type": "markdown",
   "metadata": {},
   "source": [
    "### Criando loop de repeticao"
   ]
  },
  {
   "cell_type": "code",
   "execution_count": 12,
   "metadata": {},
   "outputs": [
    {
     "data": {
      "text/plain": [
       "AgentFinish(return_values={'output': 'Pedro Álvares Cabral foi um fidalgo, comandante militar, navegador e explorador português, creditado como o descobridor do Brasil. Ele realizou uma significativa exploração da costa nordeste da América do Sul, reivindicando-a para Portugal. Cabral foi nomeado para chefiar uma expedição à Índia em 1500, seguindo a rota inaugurada por Vasco da Gama, contornando a África. No entanto, sua frota se afastou da costa africana e acabou desembarcando no que ele inicialmente achou ser uma grande ilha, que ele nomeou de Vera Cruz, mas percebeu depois tratar-se provavelmente de um continente. Essas terras que reivindicou para Portugal mais tarde constituiriam o Brasil.\\n\\nAlém disso, o Parque Ibirapuera, em São Paulo, Brasil, é um dos locais mais visitados do mundo e é conhecido por sua beleza natural e por abrigar a \"Marquise\", uma obra arquitetônica de Oscar Niemeyer.\\n\\nPosso te ajudar com mais alguma coisa?'}, log='Pedro Álvares Cabral foi um fidalgo, comandante militar, navegador e explorador português, creditado como o descobridor do Brasil. Ele realizou uma significativa exploração da costa nordeste da América do Sul, reivindicando-a para Portugal. Cabral foi nomeado para chefiar uma expedição à Índia em 1500, seguindo a rota inaugurada por Vasco da Gama, contornando a África. No entanto, sua frota se afastou da costa africana e acabou desembarcando no que ele inicialmente achou ser uma grande ilha, que ele nomeou de Vera Cruz, mas percebeu depois tratar-se provavelmente de um continente. Essas terras que reivindicou para Portugal mais tarde constituiriam o Brasil.\\n\\nAlém disso, o Parque Ibirapuera, em São Paulo, Brasil, é um dos locais mais visitados do mundo e é conhecido por sua beleza natural e por abrigar a \"Marquise\", uma obra arquitetônica de Oscar Niemeyer.\\n\\nPosso te ajudar com mais alguma coisa?')"
      ]
     },
     "execution_count": 12,
     "metadata": {},
     "output_type": "execute_result"
    }
   ],
   "source": [
    "from langchain.schema.agent import AgentFinish\n",
    "\n",
    "def run_agent(input):\n",
    "    passos_intermediarios = []\n",
    "    while True:\n",
    "        resposta = chain.invoke({\n",
    "            \"input\": input,\n",
    "            \"agent_scratchpad\": format_to_openai_function_messages(passos_intermediarios)\n",
    "        })\n",
    "        if isinstance(resposta, AgentFinish):\n",
    "            return resposta\n",
    "        observacao = tool_run[resposta.tool].run(resposta.tool_input)\n",
    "        passos_intermediarios.append((resposta, observacao))\n",
    "\n",
    "run_agent(\"Quem é Pedro Cabral\")"
   ]
  },
  {
   "cell_type": "markdown",
   "metadata": {},
   "source": [
    "### Adicionando memória"
   ]
  },
  {
   "cell_type": "code",
   "execution_count": 13,
   "metadata": {},
   "outputs": [],
   "source": [
    "from langchain.schema.runnable import RunnablePassthrough\n",
    "\n",
    "#agent\n",
    "prompt = chat_prompt = ChatPromptTemplate.from_messages([\n",
    "    (\"system\", \"Você é um assistente amigavel\"),\n",
    "    (\"user\", \"{input}\"),\n",
    "    MessagesPlaceholder(variable_name=\"agent_scratchpad\"),\n",
    "])\n",
    "\n",
    "pass_through = RunnablePassthrough.assign(\n",
    "    agent_scratchpad=lambda x: format_to_openai_function_messages(x[\"intermediate_steps\"])\n",
    ")\n",
    "\n",
    "agent_chain = pass_through | prompt | chat.bind(functions=tools_json) | OpenAIFunctionsAgentOutputParser()"
   ]
  },
  {
   "cell_type": "code",
   "execution_count": 14,
   "metadata": {},
   "outputs": [],
   "source": [
    "#agent executor\n",
    "def run_agent(input):\n",
    "    passos_intermediarios = []\n",
    "    while True:\n",
    "        resposta = agent_chain.invoke({\n",
    "            \"input\": input,\n",
    "            \"intermediate_steps\": passos_intermediarios\n",
    "        })\n",
    "        if isinstance(resposta, AgentFinish):\n",
    "            return resposta\n",
    "        observacao = tool_run[resposta.tool].run(resposta.tool_input)\n",
    "        passos_intermediarios.append((resposta, observacao))"
   ]
  },
  {
   "cell_type": "code",
   "execution_count": 18,
   "metadata": {},
   "outputs": [
    {
     "data": {
      "text/plain": [
       "AgentFinish(return_values={'output': 'Alan Mathison Turing (Londres, 23 de junho de 1912 — Wilmslow, Cheshire, 7 de junho de 1954) foi um matemático, cientista da computação, lógico, criptoanalista, filósofo e biólogo teórico britânico. Turing foi altamente influente no desenvolvimento da moderna ciência da computação teórica, proporcionando uma formalização dos conceitos de algoritmo e computação com a máquina de Turing, que pode ser considerada um modelo de um computador de uso geral. Ele é amplamente considerado o pai da ciência da computação teórica e da inteligência artificial. Turing desempenhou um papel crucial durante a Segunda Guerra Mundial, trabalhando para a Escola de Código e Cifras do Governo (GC&CS) em Bletchley Park, onde ajudou a quebrar mensagens codificadas interceptadas, contribuindo para a derrota dos nazistas. Após a guerra, Turing continuou seus trabalhos no campo da computação e biologia matemática. Tragicamente, Turing enfrentou discriminação devido à sua orientação sexual e foi processado por atos homossexuais em 1952, sendo submetido a tratamento de castração química. Ele faleceu em 1954, aos 41 anos, em circunstâncias ainda envoltas em controvérsias. Em reconhecimento ao seu legado, Turing recebeu um perdão póstumo da rainha Elizabeth II em 2013. Sua contribuição para a ciência da computação e para a vitória dos Aliados na Segunda Guerra Mundial foi de extrema importância.'}, log='Alan Mathison Turing (Londres, 23 de junho de 1912 — Wilmslow, Cheshire, 7 de junho de 1954) foi um matemático, cientista da computação, lógico, criptoanalista, filósofo e biólogo teórico britânico. Turing foi altamente influente no desenvolvimento da moderna ciência da computação teórica, proporcionando uma formalização dos conceitos de algoritmo e computação com a máquina de Turing, que pode ser considerada um modelo de um computador de uso geral. Ele é amplamente considerado o pai da ciência da computação teórica e da inteligência artificial. Turing desempenhou um papel crucial durante a Segunda Guerra Mundial, trabalhando para a Escola de Código e Cifras do Governo (GC&CS) em Bletchley Park, onde ajudou a quebrar mensagens codificadas interceptadas, contribuindo para a derrota dos nazistas. Após a guerra, Turing continuou seus trabalhos no campo da computação e biologia matemática. Tragicamente, Turing enfrentou discriminação devido à sua orientação sexual e foi processado por atos homossexuais em 1952, sendo submetido a tratamento de castração química. Ele faleceu em 1954, aos 41 anos, em circunstâncias ainda envoltas em controvérsias. Em reconhecimento ao seu legado, Turing recebeu um perdão póstumo da rainha Elizabeth II em 2013. Sua contribuição para a ciência da computação e para a vitória dos Aliados na Segunda Guerra Mundial foi de extrema importância.')"
      ]
     },
     "execution_count": 18,
     "metadata": {},
     "output_type": "execute_result"
    }
   ],
   "source": [
    "resposta = run_agent({\"input\": \"Quem é Alan Touring\"})\n",
    "resposta"
   ]
  },
  {
   "cell_type": "markdown",
   "metadata": {},
   "source": [
    "### Langchain Agent Excutor"
   ]
  },
  {
   "cell_type": "code",
   "execution_count": 19,
   "metadata": {},
   "outputs": [],
   "source": [
    "from langchain.agents import AgentExecutor\n",
    "\n",
    "agent_executor = AgentExecutor(\n",
    "    agent=agent_chain,\n",
    "    tools=tools,\n",
    "    verbose=True\n",
    ")"
   ]
  },
  {
   "cell_type": "code",
   "execution_count": 21,
   "metadata": {},
   "outputs": [
    {
     "name": "stdout",
     "output_type": "stream",
     "text": [
      "\n",
      "\n",
      "\u001b[1m> Entering new AgentExecutor chain...\u001b[0m\n",
      "\u001b[32;1m\u001b[1;3m\n",
      "Invoking: `busca_wikipedia` with `{'query': 'Teste de Turing'}`\n",
      "\n",
      "\n",
      "\u001b[0m\u001b[36;1m\u001b[1;3mTitulo da pagina: Teste de Turing \n",
      " Resumo: O Teste de Turing testa a capacidade de um computador de exibir comportamento inteligente equivalente ao de um ser humano, ou indistinguível deste. No exemplo ilustrativo original, um jogador humano entra em uma conversa, em linguagem natural, com outro humano e uma máquina projetada para produzir respostas indistinguíveis de outro ser humano. Todos os participantes estão separados um dos outros. Se o juiz não for capaz de distinguir com segurança a máquina do humano, diz-se que a máquina passou no teste. O teste não verifica a capacidade de dar respostas corretas para as perguntas; mas sim o quão próximas as respostas são das respostas dadas por um ser humano típico. A conversa é restrita a um canal de texto, como um teclado e uma tela para que o resultado não dependa da capacidade da máquina de renderizar áudio.\n",
      "O teste foi introduzido por Alan Turing em seu artigo de 1950 \"Computing Machinery and Intelligence\", que começa com as palavras: \"Eu proponho considerar a questão 'As máquinas podem pensar?'\". Já que \"pensar\" é difícil de definir, Turing preferiu \"trocar a pergunta por outra, a qual está relacionada à anterior, e é expressa em palavras menos ambíguas\". A nova pergunta de Turing é: \"Há como imaginar um computador digital que faria bem o 'jogo da imitação?\"'. Turing queria que esta questão pudesse ser respondida. No restante do artigo, ele argumenta contra as principais objeções à proposta que \"máquinas podem pensar\" o cientista afirmou ainda que, se um computador fosse capaz de enganar um terço de seus interlocutores, fazendo-os acreditar que ele seria um ser humano, então estaria pensando por si próprio.\n",
      "Muitos eventos que visaram a utilização prática do Teste de Turing já ocorreram, como o Loebner Prize, que acontece anualmente desde 1990 e é dito como o \"primeiro teste de Turing\". Há controvérsias se os testes desses eventos são ou não válidos.\n",
      "Desde 1950, o teste provou ser, ao mesmo tempo, altamente influente e criticado, e é um conceito fundamental da filosofia da inteligência artificial.\n",
      "\n",
      "Titulo da pagina: Alan Turing \n",
      " Resumo: Alan Mathison Turing (Londres, 23 de junho de 1912 — Wilmslow, Cheshire, 7 de junho de 1954) foi um matemático, cientista da computação, lógico, criptoanalista, filósofo e biólogo teórico britânico. Turing foi altamente influente no desenvolvimento da moderna ciência da computação teórica, proporcionando uma formalização dos conceitos de algoritmo e computação com a máquina de Turing, que pode ser considerada um modelo de um computador de uso geral. Ele é amplamente considerado o pai da ciência da computação teórica e da inteligência artificial. Apesar dessas realizações ele nunca foi totalmente reconhecido em seu país de origem durante sua vida por ser homossexual e porque grande parte de seu trabalho foi coberto pela Lei de Segredos Oficiais.\n",
      "Durante a Segunda Guerra Mundial, Turing trabalhou para a Escola de Código e Cifras do Governo (GC&CS) em Bletchley Park, o centro britânico de criptoanálise que produzia ultra inteligência. Por um tempo ele liderou a Hut 8, a seção responsável pela análise criptográfica naval alemã. Lá ele desenvolveu várias técnicas para acelerar a quebra das cifras alemãs, incluindo melhorias no método de bombardeio polonês antes da guerra, bem como uma máquina eletromecânica que poderia encontrar configurações para a máquina Enigma. Turing desempenhou um papel crucial na quebra de mensagens codificadas interceptadas que permitiram aos Aliados derrotar os nazistas em muitos compromissos cruciais, incluindo a Batalha do Atlântico, e ao fazê-lo os ajudou a vencer a guerra. Devido aos problemas da história contrafactual, é difícil estimar o efeito preciso que a inteligência ultra teve na guerra mas foi estimado que este trabalho encurtou a guerra na Europa em mais de dois anos e salvou mais de 14 milhões de vidas.\n",
      "Após a guerra Turing trabalhou no Laboratório Nacional de Física, onde projetou o Mecanismo de Computação Automática, um dos primeiros projetos para um computador de programa armazenado. Em 1948 Turing ingressou no Laboratório de Máquinas de Computação de Max Newman, na Victoria University de Manchester, onde ajudou a desenvolver os computadores de Manchester e se interessou por biologia matemática. Ele escreveu um artigo sobre as bases químicas da morfogênese e previu reações químicas oscilantes, como a reação de Belousov – Zhabotinsky, observada pela primeira vez na década de 1960.\n",
      "Turing foi processado judicialmente em 1952 por atos homossexuais: a Emenda Labouchere de 1885 determinara que \"indecência grosseira\" era uma ofensa criminal no Reino Unido. Ele aceitou o tratamento de castração química, com dietilestilbestrol, como alternativa à prisão. Turing morreu em 1954, 16 dias antes de seu 42º aniversário, por envenenamento por cianeto. Um inquérito determinou sua morte como suicídio, mas se observou que a evidência conhecida também é consistente com envenenamento acidental. Em 2009, após uma campanha na Internet, o primeiro-ministro britânico Gordon Brown fez um pedido de desculpas público e oficial a Turing em nome do governo britânico pela \"maneira terrível como foi tratado\". A rainha Elizabeth II concedeu a Turing um perdão póstumo em 2013. A \"lei Alan Turing\" é agora um termo informal para uma lei britânica de 2017 que retroativamente perdoou homens advertidos ou condenados sob a legislação histórica que proibia atos homossexuais.\n",
      "\n",
      "Titulo da pagina: Inteligência artificial \n",
      " Resumo: Na informática, a Inteligência Artificial (IA) genericamente é a inteligência, o raciocínio e, o aprendizado exibida por máquinas semelhante ao raciocino humano; busca desenvolver máquinas autônomas ou sistemas especialistas capazes de simular o pensamento humano e realizar varias tarefas complexas de forma independente. É o sistema que permite aos computadores executar funções avançadas, como a capacidade de analisar dados em grande escala e fazer previsões/recomendações; É um campo de pesquisa em ciência da computação que desenvolve e estuda métodos e softwares que permitem que as máquinas percebam seu ambiente e usem o aprendizado e a inteligência para tomar ações que maximizem suas chances de atingir objetivos definidos. A IA iniciou na década de 1950 com os pesquisadores Alan Turing e Herbert Simon baseado no conceito do filósofo grego Aristóteles.\n",
      "Aplicações de IA incluem mecanismos avançados de busca na web (por exemplo, Google Search); sistemas de recomendação (usados pelo YouTube, Amazon e Netflix); assistentes virtuais (por exemplo, Google Assistant, Siri e Alexa ); veículos autônomos (por exemplo, Waymo); ferramentas generativas e criativas (por exemplo, ChatGPT, DeepSeek e AI art); e jogo e análise sobre-humanos em jogos de estratégia (por exemplo, xadrez e Go). No entanto, muitas aplicações de IA não são percebidas como IA porque já se tornaram comuns o suficiente no cotidiano das pessoas. Como por exemplo, o reconhecimento óptico de caracteres (OCR) que extrai o texto de imagens, transforma conteúdo não estruturado em dados estruturados com insights pronto para negócios. \n",
      "A IA é um campo que abrange muitas disciplinas, como: ciência da computação, estatísticas, engenharia de hardware e de software, linguística, neurociência e, filosofia.  Vários subcampos da pesquisa em IA são centrados em objetivos específicos e no uso de ferramentas específicas. Os objetivos tradicionais da pesquisa em IA incluem raciocínio, representação de conhecimento, planejamento, aprendizagem, processamento de linguagem natural, percepção e suporte à robótica. A inteligência geral — a capacidade de completar qualquer tarefa realizada por um humano em um nível pelo menos igual — está entre os objetivos de longo prazo do campo. Para atingir esses objetivos, os pesquisadores de IA adaptaram e integraram uma ampla gama de técnicas, incluindo otimização matemática e de busca, lógica formal, redes neurais artificiais e métodos baseados em estatística, pesquisa operacional e economia. A IA também se baseia na psicologia, linguística, filosofia, neurociência e em outros campos.\n",
      "A inteligência artificial foi fundada como disciplina acadêmica em 1956 e o campo passou por múltiplos ciclos de otimismo ao longo de sua história, seguidos por períodos de decepção e perda de financiamento. Os recursos e o interesse aumentaram enormemente após 2012, quando a aprendizagem profunda superou as técnicas de IA anteriores. Este crescimento acelerou ainda mais depois de 2017 e no início da década de 2020 muitos milhares de milhões de dólares estavam a ser investidos em IA e o campo experimentou um rápido progresso contínuo no que ficou conhecido como o boom da IA. O surgimento da IA generativa avançada e sua capacidade de criar e modificar conteúdo expôs diversas consequências e danos não intencionais no presente e levantou preocupações sobre os riscos da IA e seus efeitos de longo prazo no futuro, gerando discussões sobre políticas regulatórias para garantir a segurança e os benefícios da tecnologia.\n",
      "\n",
      "\u001b[0m\u001b[32;1m\u001b[1;3mO Teste de Turing foi proposto por Alan Turing em 1950 e tem o objetivo de testar a capacidade de um computador de exibir comportamento inteligente equivalente ao de um ser humano, de forma que seja indistinguível de um humano em uma conversa em linguagem natural. O teste consiste em um jogador humano conversar com outro humano e uma máquina, sem saber quem é quem. Se o juiz não conseguir distinguir com segurança a máquina do humano, diz-se que a máquina passou no teste.\n",
      "\n",
      "Alan Turing, o criador do Teste de Turing, foi um matemático, cientista da computação, lógico, criptoanalista, filósofo e biólogo teórico britânico. Ele é considerado altamente influente no desenvolvimento da ciência da computação teórica e da inteligência artificial. Durante a Segunda Guerra Mundial, Turing desempenhou um papel crucial na quebra de mensagens codificadas dos nazistas, contribuindo para a vitória dos Aliados.\n",
      "\n",
      "A Inteligência Artificial é o campo que busca desenvolver máquinas autônomas ou sistemas especialistas capazes de simular o pensamento humano e realizar tarefas complexas de forma independente. Ela abrange disciplinas como ciência da computação, estatísticas, engenharia de hardware e software, linguística, neurociência e filosofia. A IA possui diversas aplicações práticas, como mecanismos de busca na web, assistentes virtuais, veículos autônomos, ferramentas generativas e criativas, entre outros.\n",
      "\n",
      "Em resumo, o Teste de Turing é um marco na história da inteligência artificial e da ciência da computação, proposto por Alan Turing para testar a capacidade de uma máquina de exibir comportamento inteligente indistinguível do de um ser humano em uma conversa.\u001b[0m\n",
      "\n",
      "\u001b[1m> Finished chain.\u001b[0m\n"
     ]
    },
    {
     "data": {
      "text/plain": [
       "{'input': 'O que é, em detalhes, o teste de Touring?',\n",
       " 'output': 'O Teste de Turing foi proposto por Alan Turing em 1950 e tem o objetivo de testar a capacidade de um computador de exibir comportamento inteligente equivalente ao de um ser humano, de forma que seja indistinguível de um humano em uma conversa em linguagem natural. O teste consiste em um jogador humano conversar com outro humano e uma máquina, sem saber quem é quem. Se o juiz não conseguir distinguir com segurança a máquina do humano, diz-se que a máquina passou no teste.\\n\\nAlan Turing, o criador do Teste de Turing, foi um matemático, cientista da computação, lógico, criptoanalista, filósofo e biólogo teórico britânico. Ele é considerado altamente influente no desenvolvimento da ciência da computação teórica e da inteligência artificial. Durante a Segunda Guerra Mundial, Turing desempenhou um papel crucial na quebra de mensagens codificadas dos nazistas, contribuindo para a vitória dos Aliados.\\n\\nA Inteligência Artificial é o campo que busca desenvolver máquinas autônomas ou sistemas especialistas capazes de simular o pensamento humano e realizar tarefas complexas de forma independente. Ela abrange disciplinas como ciência da computação, estatísticas, engenharia de hardware e software, linguística, neurociência e filosofia. A IA possui diversas aplicações práticas, como mecanismos de busca na web, assistentes virtuais, veículos autônomos, ferramentas generativas e criativas, entre outros.\\n\\nEm resumo, o Teste de Turing é um marco na história da inteligência artificial e da ciência da computação, proposto por Alan Turing para testar a capacidade de uma máquina de exibir comportamento inteligente indistinguível do de um ser humano em uma conversa.'}"
      ]
     },
     "execution_count": 21,
     "metadata": {},
     "output_type": "execute_result"
    }
   ],
   "source": [
    "resposta = agent_executor({\"input\": \"O que é, em detalhes, o teste de Touring?\"})\n",
    "resposta"
   ]
  },
  {
   "cell_type": "markdown",
   "metadata": {},
   "source": [
    "### Adicionando memória"
   ]
  },
  {
   "cell_type": "code",
   "execution_count": 34,
   "metadata": {},
   "outputs": [],
   "source": [
    "from langchain.memory import ConversationBufferMemory\n",
    "\n",
    "memory = ConversationBufferMemory(\n",
    "    return_messages=True, \n",
    "    memory_key=\"chat_history\"\n",
    ")\n",
    "\n",
    "prompt = ChatPromptTemplate.from_messages([\n",
    "    (\"system\", \"Você é um assistente amigavel\"),\n",
    "    MessagesPlaceholder(variable_name=\"chat_history\"),\n",
    "    (\"user\", \"{input}\"),\n",
    "    MessagesPlaceholder(variable_name=\"agent_scratchpad\"),\n",
    "])\n",
    "\n",
    "pass_through = RunnablePassthrough.assign(\n",
    "    agent_scratchpad=lambda x: format_to_openai_function_messages(x[\"intermediate_steps\"])\n",
    ")\n",
    "agent_chain = pass_through | prompt | chat.bind(functions=tools_json) | OpenAIFunctionsAgentOutputParser()"
   ]
  },
  {
   "cell_type": "code",
   "execution_count": 35,
   "metadata": {},
   "outputs": [],
   "source": [
    "agent_executor = AgentExecutor(\n",
    "    agent=agent_chain,\n",
    "    tools=tools,\n",
    "    memory=memory,\n",
    "    verbose=True\n",
    ")"
   ]
  },
  {
   "cell_type": "code",
   "execution_count": 36,
   "metadata": {},
   "outputs": [
    {
     "name": "stdout",
     "output_type": "stream",
     "text": [
      "\n",
      "\n",
      "\u001b[1m> Entering new AgentExecutor chain...\u001b[0m\n",
      "\u001b[32;1m\u001b[1;3m\n",
      "Invoking: `busca_wikipedia` with `{'query': 'Isaac Newton'}`\n",
      "\n",
      "\n",
      "\u001b[0m\u001b[36;1m\u001b[1;3mTitulo da pagina: Isaac Newton \n",
      " Resumo: Sir Isaac Newton PRS (Woolsthorpe-by-Colsterworth, 25 de dezembro de 1642jul./ 4 de janeiro de 1643greg. – Kensington, 20 de março de 1727jul./ 31 de março de 1727greg) foi um matemático, físico, astrônomo, teólogo e autor inglês (descrito em seus dias como um \"filósofo natural\") amplamente reconhecido como um dos cientistas mais influentes de todos os tempos e como uma figura-chave na Revolução Científica. Seu livro Philosophiæ Naturalis Principia Mathematica (Princípios Matemáticos da Filosofia Natural), publicado pela primeira vez em 1687, lançou as bases da mecânica clássica. Newton também fez contribuições seminais à óptica e compartilha crédito com Gottfried Wilhelm Leibniz pelo desenvolvimento do cálculo infinitesimal.\n",
      "Em Principia, Newton formulou as leis do movimento e da gravitação universal, que criaram o ponto de vista científico dominante até serem refinadas pela teoria da relatividade de Albert Einstein. Usou sua descrição matemática da gravidade para provar as leis de movimento planetário de Kepler, explicar as marés, as trajetórias dos cometas, a precessão dos equinócios e outros fenômenos, erradicando a dúvida sobre a heliocentricidade do Sistema Solar. Demonstrou que o movimento dos objetos na Terra e nos corpos celestes poderia ser explicado pelos mesmos princípios. A inferência de Newton de que a Terra é um esferoide oblato foi posteriormente confirmada pelas medidas geodésicas de Maupertuis, La Condamine e outros, convencendo a maioria dos cientistas europeus da superioridade da mecânica newtoniana em relação aos sistemas anteriores.\n",
      "Newton construiu o primeiro telescópio refletor prático e desenvolveu uma teoria sofisticada da cor com base na observação de que um prisma separa a luz branca nas cores do espectro visível. Seu trabalho sobre a luz foi coletado em seu livro altamente influente Ótica, publicado em 1704. Também formulou uma lei empírica do resfriamento, fez o primeiro cálculo teórico da velocidade do som e introduziu a noção de um fluido newtoniano. Além de seu trabalho sobre cálculo, como matemático, ele contribuiu para o estudo de séries de potências, generalizou o teorema binomial a expoentes não inteiros, desenvolveu um método para aproximar as raízes de uma função e classificou a maioria das curvas do plano cúbico.\n",
      "Newton foi membro do Trinity College e o segundo professor lucasiano na Universidade de Cambridge. Foi um cristão devoto, mas pouco ortodoxo, que rejeitava, em particular, a doutrina da Trindade. Também se recusava a receber ordens sagradas da Igreja da Inglaterra, o que era incomum para um membro da faculdade de Cambridge da época. Além de seu trabalho nas ciências matemáticas, Newton dedicou grande parte de seu tempo ao estudo da alquimia e da cronologia bíblica, mas a maior parte de seu trabalho nessas áreas permaneceu inédita até muito tempo após sua morte. Politicamente e pessoalmente vinculado ao partido Whig, Newton serviu dois breves mandatos como membro do Parlamento da Universidade de Cambridge (1689–1690 e 1701–1702). Foi cavaleiro da rainha Ana em 1705 e passou as últimas três décadas de sua vida em Londres servindo como diretor (1696–1700) e mestre (1700–1727) da Casa da Moeda Real e como presidente da Royal Society (1703–1727).\n",
      "\n",
      "\n",
      "\n",
      "Titulo da pagina: Leis de Newton \n",
      " Resumo: As Leis de Newton são as três leis que possibilitam e constituem a base primária para compreensão dos comportamentos estático e dinâmico dos corpos materiais, em escalas quer celeste quer terrestre. Foram formuladas pelo físico inglês Isaac Newton ainda no século XVII e foram publicadas pela primeira vez em seu livro Philosophiae Naturalis Principia Mathematica. Em essência, as leis estabelecem inicialmente os observadores (referenciais) que podem corretamente usá-las, a fim de explicar a estática e a dinâmica dos corpos em observação (as leis valem em referenciais inerciais); e assumindo estes referenciais por padrão, passam então a mensurar as interações físicas entre dois (ou, via princípio da superposição), entre todos os corpos materiais bem como o resultado destas interações sobre o repouso ou o movimento de tais corpos.\n",
      "A interação entre dois corpos, à parte sua natureza física, é mensurada mediante o conceito de força; e o resultado físico da interação sobre cada corpo é fisicamente interpretado como resultado da ação desta força: em essência, as forças representam interações entre pares de corpos, e são responsáveis pelas acelerações, ou seja, pelas mudanças nas velocidades dos corpos nos quais atuam. Corpos distintos usualmente respondem de formas distintas a uma dada força, e para caracterizar essa resposta define-se para cada corpo uma massa.\n",
      "As leis de Newton definem-se sobre uma estrutura vetorial, contudo essas leis foram expressas nas mais diferentes formas nos últimos três séculos, incluso via formulações de natureza essencialmente escalar. As formulações de Hamilton e de Lagrange da mecânica clássica; embora em nada acrescentem em termos de fundamentos às leis de Newton, expressam os mesmos princípios de forma muito mais prática a certos problemas, embora representem a primeira vista complicações frente aos problemas mais simples usualmente encontrados em seções que visam a explicar as leis de Newton.\n",
      "Newton não apenas estabeleceu as leis da mecânica como também estabeleceu a lei para uma das interações fundamentais, a lei da Gravitação Universal, e ainda construiu todo o arcabouço matemático necessário — o cálculo diferencial e integral — para que hoje se pudessem projetar e pragmaticamente construir desde edifícios até aviões, desde sistemas mais eficientes de freios automotivos até satélites em órbita (ver: História dos foguetes). O mundo hoje mostra-se inconcebível sem a compreensão que vem à luz via leis de Newton.\n",
      "\n",
      "\n",
      "\n",
      "Titulo da pagina: Macieira de Isaac Newton \n",
      " Resumo: A macieira de Isaac Newton em Woolsthorpe Manor representa a inspiração por trás da teoria da gravidade de Isaac Newton. Embora os detalhes precisos da reminiscência de Newton (relatados por várias testemunhas a quem Newton supostamente contou a história) sejam impossíveis de verificar, o significado do evento está em sua explicação do pensamento científico de Newton. A macieira em questão, um exemplar da variedade Flor de Kent, é uma descendente direta daquela que estava no jardim da família de Newton em 1666. Apesar de ter sido derrubada por uma tempestade em 1820, a árvore voltou a crescer a partir de suas raízes originais. Seus descendentes e clones podem ser encontrados em vários locais do mundo.\u001b[0m\u001b[32;1m\u001b[1;3mSir Isaac Newton foi um matemático, físico, astrônomo, teólogo e autor inglês, amplamente reconhecido como um dos cientistas mais influentes de todos os tempos e uma figura-chave na Revolução Científica. Ele é conhecido por suas contribuições à mecânica clássica, óptica, gravitação universal, cálculo infinitesimal, entre outros campos.\n",
      "\n",
      "Newton formulou as leis do movimento e da gravitação universal, que são fundamentais para a compreensão dos comportamentos estático e dinâmico dos corpos materiais. Suas descobertas abriram caminho para a ciência moderna e revolucionaram nossa compreensão do mundo físico.\n",
      "\n",
      "Além de suas realizações científicas, Newton também foi um cristão devoto, mas pouco ortodoxo, e dedicou parte de seu tempo ao estudo da alquimia e da cronologia bíblica.\n",
      "\n",
      "A macieira de Isaac Newton em Woolsthorpe Manor representa a inspiração por trás da teoria da gravidade de Newton. A história da maçã caindo da árvore e levando Newton a formular sua teoria da gravitação universal é lendária e simbólica do pensamento científico de Newton.\n",
      "\n",
      "Espero que essas informações sobre Isaac Newton tenham sido úteis! Se precisar de mais detalhes ou tiver outras perguntas, fique à vontade para perguntar.\u001b[0m\n",
      "\n",
      "\u001b[1m> Finished chain.\u001b[0m\n"
     ]
    },
    {
     "data": {
      "text/plain": [
       "{'input': 'Quem é Isacc Newton',\n",
       " 'chat_history': [HumanMessage(content='Quem é Isacc Newton', additional_kwargs={}, response_metadata={}),\n",
       "  AIMessage(content='Sir Isaac Newton foi um matemático, físico, astrônomo, teólogo e autor inglês, amplamente reconhecido como um dos cientistas mais influentes de todos os tempos e uma figura-chave na Revolução Científica. Ele é conhecido por suas contribuições à mecânica clássica, óptica, gravitação universal, cálculo infinitesimal, entre outros campos.\\n\\nNewton formulou as leis do movimento e da gravitação universal, que são fundamentais para a compreensão dos comportamentos estático e dinâmico dos corpos materiais. Suas descobertas abriram caminho para a ciência moderna e revolucionaram nossa compreensão do mundo físico.\\n\\nAlém de suas realizações científicas, Newton também foi um cristão devoto, mas pouco ortodoxo, e dedicou parte de seu tempo ao estudo da alquimia e da cronologia bíblica.\\n\\nA macieira de Isaac Newton em Woolsthorpe Manor representa a inspiração por trás da teoria da gravidade de Newton. A história da maçã caindo da árvore e levando Newton a formular sua teoria da gravitação universal é lendária e simbólica do pensamento científico de Newton.\\n\\nEspero que essas informações sobre Isaac Newton tenham sido úteis! Se precisar de mais detalhes ou tiver outras perguntas, fique à vontade para perguntar.', additional_kwargs={}, response_metadata={})],\n",
       " 'output': 'Sir Isaac Newton foi um matemático, físico, astrônomo, teólogo e autor inglês, amplamente reconhecido como um dos cientistas mais influentes de todos os tempos e uma figura-chave na Revolução Científica. Ele é conhecido por suas contribuições à mecânica clássica, óptica, gravitação universal, cálculo infinitesimal, entre outros campos.\\n\\nNewton formulou as leis do movimento e da gravitação universal, que são fundamentais para a compreensão dos comportamentos estático e dinâmico dos corpos materiais. Suas descobertas abriram caminho para a ciência moderna e revolucionaram nossa compreensão do mundo físico.\\n\\nAlém de suas realizações científicas, Newton também foi um cristão devoto, mas pouco ortodoxo, e dedicou parte de seu tempo ao estudo da alquimia e da cronologia bíblica.\\n\\nA macieira de Isaac Newton em Woolsthorpe Manor representa a inspiração por trás da teoria da gravidade de Newton. A história da maçã caindo da árvore e levando Newton a formular sua teoria da gravitação universal é lendária e simbólica do pensamento científico de Newton.\\n\\nEspero que essas informações sobre Isaac Newton tenham sido úteis! Se precisar de mais detalhes ou tiver outras perguntas, fique à vontade para perguntar.'}"
      ]
     },
     "execution_count": 36,
     "metadata": {},
     "output_type": "execute_result"
    }
   ],
   "source": [
    "resposta = agent_executor({\"input\": \"Quem é Isacc Newton\"})\n",
    "resposta"
   ]
  },
  {
   "cell_type": "code",
   "execution_count": null,
   "metadata": {},
   "outputs": [],
   "source": []
  }
 ],
 "metadata": {
  "kernelspec": {
   "display_name": "venv",
   "language": "python",
   "name": "python3"
  },
  "language_info": {
   "codemirror_mode": {
    "name": "ipython",
    "version": 3
   },
   "file_extension": ".py",
   "mimetype": "text/x-python",
   "name": "python",
   "nbconvert_exporter": "python",
   "pygments_lexer": "ipython3",
   "version": "3.12.5"
  }
 },
 "nbformat": 4,
 "nbformat_minor": 2
}
