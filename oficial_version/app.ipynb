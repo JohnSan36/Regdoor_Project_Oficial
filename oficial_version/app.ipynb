{
 "cells": [
  {
   "cell_type": "code",
   "execution_count": 1,
   "metadata": {},
   "outputs": [],
   "source": [
    "from fastapi import FastAPI, HTTPException\n",
    "from pydantic import BaseModel\n",
    "import requests\n",
    "from dotenv import load_dotenv, find_dotenv\n",
    "import uvicorn\n",
    "import os"
   ]
  },
  {
   "cell_type": "code",
   "execution_count": 2,
   "metadata": {},
   "outputs": [
    {
     "name": "stdout",
     "output_type": "stream",
     "text": [
      "O servidor já está rodando dentro de um loop assíncrono. Execute diretamente com 'uvicorn app:app --reload'\n"
     ]
    }
   ],
   "source": [
    "load_dotenv(find_dotenv())\n",
    "EVOLUTION_API_KEY = os.getenv(\"EVOLUTION_API_KEY\")\n",
    "\n",
    "app = FastAPI()\n",
    "\n",
    "class WhatsappMessage(BaseModel):\n",
    "    message: str\n",
    "    type_message: str\n",
    "    sender: str\n",
    "\n",
    "@app.post(\"/webhook\")\n",
    "async def recieve_message(msg: WhatsappMessage):\n",
    "    print(f\"Nova mensagem de {msg.sender}; Conteúdo: {msg.message}; Type: {msg.type_message}\")\n",
    "    return {\"Status\": \"Mensagem recebida com sucesso!\"}\n",
    "\n",
    "def send_message(to, message):\n",
    "    url = \"https://evolution.cybermindsolutions.com.br/message/sendText/Regdoor\"\n",
    "    headers = {\"Authorization\": f\"Bearer {EVOLUTION_API_KEY}\"}\n",
    "    payload = {\"to\": to, \"message\": message}\n",
    "\n",
    "    response = requests.post(url, headers=headers, json=payload)\n",
    "    return response.json()\n",
    "\n",
    "\n",
    "import asyncio\n",
    "\n",
    "if __name__ == \"__main__\":\n",
    "    if asyncio.get_event_loop().is_running():\n",
    "        print(\"O servidor já está rodando dentro de um loop assíncrono. Execute diretamente com 'uvicorn app:app --reload'\")\n",
    "    else:\n",
    "        uvicorn.run(app, host=\"0.0.0.0\", port=8000)"
   ]
  },
  {
   "cell_type": "code",
   "execution_count": 3,
   "metadata": {},
   "outputs": [
    {
     "data": {
      "text/plain": [
       "{'status': 401,\n",
       " 'error': 'Unauthorized',\n",
       " 'response': {'message': 'Unauthorized'}}"
      ]
     },
     "execution_count": 3,
     "metadata": {},
     "output_type": "execute_result"
    }
   ],
   "source": [
    "respsta = send_message(\"554196143338@s.whatsapp.net\", \"Olá! Recebemos sua mensagem.\")\n",
    "respsta"
   ]
  }
 ],
 "metadata": {
  "kernelspec": {
   "display_name": "venv",
   "language": "python",
   "name": "python3"
  },
  "language_info": {
   "codemirror_mode": {
    "name": "ipython",
    "version": 3
   },
   "file_extension": ".py",
   "mimetype": "text/x-python",
   "name": "python",
   "nbconvert_exporter": "python",
   "pygments_lexer": "ipython3",
   "version": "3.12.5"
  }
 },
 "nbformat": 4,
 "nbformat_minor": 2
}
