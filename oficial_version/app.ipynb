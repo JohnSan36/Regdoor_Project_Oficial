{
 "cells": [
  {
   "cell_type": "code",
   "execution_count": 7,
   "metadata": {},
   "outputs": [],
   "source": [
    "from fastapi import FastAPI, Request\n",
    "from pydantic import BaseModel\n",
    "import asyncio\n",
    "import requests\n",
    "from dotenv import load_dotenv, find_dotenv\n",
    "import uvicorn\n",
    "import os"
   ]
  },
  {
   "cell_type": "code",
   "execution_count": 8,
   "metadata": {},
   "outputs": [
    {
     "name": "stdout",
     "output_type": "stream",
     "text": [
      "O servidor já está rodando dentro de um loop assíncrono. Execute diretamente com 'uvicorn app:app --reload'\n"
     ]
    }
   ],
   "source": [
    "load_dotenv(find_dotenv())\n",
    "EVOLUTION_API_KEY = os.getenv(\"EVOLUTION_API_KEY\")\n",
    "\n",
    "app = FastAPI()\n",
    "\n",
    "class WhatsappMessage(BaseModel):\n",
    "    message: str\n",
    "\n",
    "@app.post(\"/webhook\")\n",
    "def receive_message(request: Request):\n",
    "    body = request.json()\n",
    "    print(\"JSON recebido:\", body)\n",
    "    message_text = body.get(\"message\") or body.get(\"data\", {}).get(\"message\") or \"Mensagem não encontrada\"\n",
    "    print(\"Mensagem extraída:\", message_text)\n",
    "    return {\"Status\": \"Mensagem recebida com sucesso!\", \"Mensagem\": message_text}\n",
    "\n",
    "\n",
    "if __name__ == \"__main__\":\n",
    "    if asyncio.get_event_loop().is_running():\n",
    "        print(\"O servidor já está rodando dentro de um loop assíncrono. Execute diretamente com 'uvicorn app:app --reload'\")\n",
    "    else:\n",
    "        import uvicorn\n",
    "        uvicorn.run(app, host=\"0.0.0.0\", port=8000)"
   ]
  },
  {
   "cell_type": "code",
   "execution_count": null,
   "metadata": {},
   "outputs": [],
   "source": []
  }
 ],
 "metadata": {
  "kernelspec": {
   "display_name": "venv",
   "language": "python",
   "name": "python3"
  },
  "language_info": {
   "codemirror_mode": {
    "name": "ipython",
    "version": 3
   },
   "file_extension": ".py",
   "mimetype": "text/x-python",
   "name": "python",
   "nbconvert_exporter": "python",
   "pygments_lexer": "ipython3",
   "version": "3.12.5"
  }
 },
 "nbformat": 4,
 "nbformat_minor": 2
}
